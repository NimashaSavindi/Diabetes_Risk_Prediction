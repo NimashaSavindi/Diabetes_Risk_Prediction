{
  "nbformat": 4,
  "nbformat_minor": 0,
  "metadata": {
    "colab": {
      "provenance": [],
      "authorship_tag": "ABX9TyPF0j+3DfvFKDxYuPNcsvUD",
      "include_colab_link": true
    },
    "kernelspec": {
      "name": "python3",
      "display_name": "Python 3"
    },
    "language_info": {
      "name": "python"
    }
  },
  "cells": [
    {
      "cell_type": "markdown",
      "metadata": {
        "id": "view-in-github",
        "colab_type": "text"
      },
      "source": [
        "<a href=\"https://colab.research.google.com/github/NimashaSavindi/Diabetes_Risk_Prediction/blob/main/Diabetes_Risk_Prediction.ipynb\" target=\"_parent\"><img src=\"https://colab.research.google.com/assets/colab-badge.svg\" alt=\"Open In Colab\"/></a>"
      ]
    },
    {
      "cell_type": "code",
      "execution_count": 1,
      "metadata": {
        "id": "lAePvngVPeuh"
      },
      "outputs": [],
      "source": [
        "import pandas as pd\n",
        "\n",
        "df = pd.read_csv(\"/content/Diabetes Risk Assessment – Anonymous Health Survey  (Responses) - Form Responses 2.csv\")"
      ]
    },
    {
      "cell_type": "code",
      "source": [
        "print(df.shape)"
      ],
      "metadata": {
        "colab": {
          "base_uri": "https://localhost:8080/"
        },
        "id": "k5cVnMnyP7jo",
        "outputId": "79530f7e-bb2e-4a96-e786-54ef0e8d289e"
      },
      "execution_count": 2,
      "outputs": [
        {
          "output_type": "stream",
          "name": "stdout",
          "text": [
            "(195, 15)\n"
          ]
        }
      ]
    },
    {
      "cell_type": "code",
      "source": [
        "print(df.info())"
      ],
      "metadata": {
        "colab": {
          "base_uri": "https://localhost:8080/"
        },
        "id": "jwXtLGykP94y",
        "outputId": "91e23148-e8bd-4851-8f13-410d6b373d95"
      },
      "execution_count": 3,
      "outputs": [
        {
          "output_type": "stream",
          "name": "stdout",
          "text": [
            "<class 'pandas.core.frame.DataFrame'>\n",
            "RangeIndex: 195 entries, 0 to 194\n",
            "Data columns (total 15 columns):\n",
            " #   Column                                                                        Non-Null Count  Dtype \n",
            "---  ------                                                                        --------------  ----- \n",
            " 0   Column 1                                                                      195 non-null    object\n",
            " 1   Age                                                                           195 non-null    int64 \n",
            " 2   Gender                                                                        195 non-null    object\n",
            " 3   Weight(kg)                                                                    195 non-null    object\n",
            " 4   Height(cm)                                                                    195 non-null    object\n",
            " 5   Physical Activity Level                                                       195 non-null    object\n",
            " 6     How would you describe your typical diet?                                   195 non-null    object\n",
            " 7     Do you have a family history of diabetes?                                   195 non-null    object\n",
            " 8   Have you been diagnosed with hypertension(high blood pressure)?               195 non-null    object\n",
            " 9   Have you been diagnosed with heart disease?                                   195 non-null    object\n",
            " 10  Smoking Habits?                                                               195 non-null    object\n",
            " 11  Average hours of sleep per night                                              195 non-null    object\n",
            " 12  Alcohol Consumption                                                           195 non-null    object\n",
            " 13  Do you usually eat your meals at regular times each day?                      195 non-null    object\n",
            " 14  How often do you feel stressed or emotionally overwhelmed in a typical week?  195 non-null    object\n",
            "dtypes: int64(1), object(14)\n",
            "memory usage: 23.0+ KB\n",
            "None\n"
          ]
        }
      ]
    },
    {
      "cell_type": "code",
      "source": [
        "df.columns = df.columns.str.strip()"
      ],
      "metadata": {
        "id": "sUQ8nEJfQFFy"
      },
      "execution_count": 4,
      "outputs": []
    },
    {
      "cell_type": "code",
      "source": [
        "print(df.info())"
      ],
      "metadata": {
        "colab": {
          "base_uri": "https://localhost:8080/"
        },
        "id": "Y0yiZH52QMWk",
        "outputId": "c89448e5-136c-49e1-d808-5a93bc110ba0"
      },
      "execution_count": 5,
      "outputs": [
        {
          "output_type": "stream",
          "name": "stdout",
          "text": [
            "<class 'pandas.core.frame.DataFrame'>\n",
            "RangeIndex: 195 entries, 0 to 194\n",
            "Data columns (total 15 columns):\n",
            " #   Column                                                                        Non-Null Count  Dtype \n",
            "---  ------                                                                        --------------  ----- \n",
            " 0   Column 1                                                                      195 non-null    object\n",
            " 1   Age                                                                           195 non-null    int64 \n",
            " 2   Gender                                                                        195 non-null    object\n",
            " 3   Weight(kg)                                                                    195 non-null    object\n",
            " 4   Height(cm)                                                                    195 non-null    object\n",
            " 5   Physical Activity Level                                                       195 non-null    object\n",
            " 6   How would you describe your typical diet?                                     195 non-null    object\n",
            " 7   Do you have a family history of diabetes?                                     195 non-null    object\n",
            " 8   Have you been diagnosed with hypertension(high blood pressure)?               195 non-null    object\n",
            " 9   Have you been diagnosed with heart disease?                                   195 non-null    object\n",
            " 10  Smoking Habits?                                                               195 non-null    object\n",
            " 11  Average hours of sleep per night                                              195 non-null    object\n",
            " 12  Alcohol Consumption                                                           195 non-null    object\n",
            " 13  Do you usually eat your meals at regular times each day?                      195 non-null    object\n",
            " 14  How often do you feel stressed or emotionally overwhelmed in a typical week?  195 non-null    object\n",
            "dtypes: int64(1), object(14)\n",
            "memory usage: 23.0+ KB\n",
            "None\n"
          ]
        }
      ]
    },
    {
      "cell_type": "code",
      "source": [
        "df[\"Height(cm)\"] = df[\"Height(cm)\"].str.extract(r'(\\d+\\.?\\d*)').astype(float)\n",
        "df[\"Weight(kg)\"] = df[\"Weight(kg)\"].str.extract(r'(\\d+\\.?\\d*)').astype(float)"
      ],
      "metadata": {
        "id": "QDYliWYDQOwo"
      },
      "execution_count": 6,
      "outputs": []
    },
    {
      "cell_type": "code",
      "source": [
        "print(df[\"Average hours of sleep per night\"].unique())"
      ],
      "metadata": {
        "colab": {
          "base_uri": "https://localhost:8080/"
        },
        "id": "UTfGHW-eQWVj",
        "outputId": "c7cec637-1935-4f2c-b875-b5bd5633ab67"
      },
      "execution_count": 7,
      "outputs": [
        {
          "output_type": "stream",
          "name": "stdout",
          "text": [
            "['6-7' '6' '5-6 hr' '5' '5-6h' '7' '5 hours' '4hours' '3 hours per day '\n",
            " '4 - 6 hours' '6 hours ' '8' '4/5 hours ' '7 hours' '5 or 6' '5hr' '9'\n",
            " '8hr' '6 hours' '5 hours ' '6 Hours' '6 h' '5h' '7h' '4h' '6h' '4' '3'\n",
            " '3h']\n"
          ]
        }
      ]
    },
    {
      "cell_type": "code",
      "source": [
        "df[\"Average hours of sleep per night\"] = df[\"Average hours of sleep per night\"].astype(str).str.strip()\n",
        "\n",
        "sleep_mapping = {\n",
        "    \"Less than 5 hours\": 4.5,\n",
        "    \"More than 8 hours\": 9,\n",
        "    \"5-6\": 5.5,\n",
        "    \"5-6 hr\": 5.5,\n",
        "    \"6-7\": 6.5,\n",
        "    \"6-7 hours\": 6.5,\n",
        "    \"6\": 6,\n",
        "    \"7-8\": 7.5,\n",
        "    \"7-8 hours\": 7.5,\n",
        "    \"7\": 7,\n",
        "    \"8\": 8,\n",
        "    \"9\": 9\n",
        "}\n",
        "\n",
        "df[\"Average hours of sleep per night\"] = df[\"Average hours of sleep per night\"].replace(sleep_mapping)"
      ],
      "metadata": {
        "id": "HNbQtiYLQjsA"
      },
      "execution_count": 8,
      "outputs": []
    },
    {
      "cell_type": "code",
      "source": [
        "df[\"Average hours of sleep per night\"] = df[\"Average hours of sleep per night\"].astype(str).str.strip().str.lower()"
      ],
      "metadata": {
        "id": "ld0zdQoHQnwV"
      },
      "execution_count": 9,
      "outputs": []
    },
    {
      "cell_type": "code",
      "source": [
        "import re\n",
        "\n",
        "def clean_sleep_value(val):\n",
        "    val = val.strip().lower()\n",
        "\n",
        "    # Handle known string patterns first\n",
        "    if \"less\" in val:\n",
        "        return 4.5\n",
        "    if \"more\" in val:\n",
        "        return 9\n",
        "    if \"or\" in val:\n",
        "        return sum([int(x) for x in re.findall(r'\\d+', val)]) / 2\n",
        "    if re.match(r'^\\d+$', val):  # simple numeric\n",
        "        return float(val)\n",
        "\n",
        "    # Extract numbers from ranges like \"5-6\", \"4 - 6 hours\"\n",
        "    nums = re.findall(r'\\d+', val)\n",
        "    if len(nums) == 1:\n",
        "        return float(nums[0])\n",
        "    elif len(nums) == 2:\n",
        "        return sum([int(n) for n in nums]) / 2\n",
        "    else:\n",
        "        return None  # fallback if we can't parse it"
      ],
      "metadata": {
        "id": "tv_5Amk2Qqkm"
      },
      "execution_count": 10,
      "outputs": []
    },
    {
      "cell_type": "code",
      "source": [
        "df[\"Average hours of sleep per night\"] = df[\"Average hours of sleep per night\"].apply(clean_sleep_value)\n"
      ],
      "metadata": {
        "id": "DMaKrsAMQt79"
      },
      "execution_count": 11,
      "outputs": []
    },
    {
      "cell_type": "code",
      "source": [
        "print(df[\"Average hours of sleep per night\"].unique())\n",
        "print(df[\"Average hours of sleep per night\"].dtype)"
      ],
      "metadata": {
        "colab": {
          "base_uri": "https://localhost:8080/"
        },
        "id": "vu404Vi2QxSU",
        "outputId": "7f6d6640-4275-42fc-87e3-cf93943d27eb"
      },
      "execution_count": 12,
      "outputs": [
        {
          "output_type": "stream",
          "name": "stdout",
          "text": [
            "[5.5 6.  5.  7.  4.  3.  8.  4.5 9. ]\n",
            "float64\n"
          ]
        }
      ]
    },
    {
      "cell_type": "code",
      "source": [
        "# Create BMI Feature\n",
        "df[\"Height(m)\"] = df[\"Height(cm)\"] / 100\n",
        "df[\"BMI\"] = df[\"Weight(kg)\"] / (df[\"Height(m)\"]**2)\n",
        "\n",
        "df.head()"
      ],
      "metadata": {
        "colab": {
          "base_uri": "https://localhost:8080/",
          "height": 816
        },
        "collapsed": true,
        "id": "wBmMKD9YQ0E_",
        "outputId": "2d773c98-5a33-4df4-fc8a-e8ed465b3d50"
      },
      "execution_count": 13,
      "outputs": [
        {
          "output_type": "execute_result",
          "data": {
            "text/plain": [
              "             Column 1  Age  Gender  Weight(kg)  Height(cm)  \\\n",
              "0  7/12/2025 20:42:04   24  Female        48.0       157.0   \n",
              "1  7/12/2025 21:09:42   24  Female        45.0       165.0   \n",
              "2  7/12/2025 21:13:29   25  Female        64.0       163.0   \n",
              "3  7/12/2025 21:14:58   26  Female        52.0       157.0   \n",
              "4  7/12/2025 21:25:54   25  Female        48.0       149.0   \n",
              "\n",
              "                             Physical Activity Level  \\\n",
              "0       Low (Little to no regular physical activity)   \n",
              "1       Low (Little to no regular physical activity)   \n",
              "2  Moderate – Some physical activity 1–3 days a w...   \n",
              "3  Moderate – Some physical activity 1–3 days a w...   \n",
              "4  Moderate – Some physical activity 1–3 days a w...   \n",
              "\n",
              "           How would you describe your typical diet?  \\\n",
              "0  Unhealthy (Mostly high-sugar, high-fat, or pro...   \n",
              "1  Moderately Healthy (Mixed diet with occasional...   \n",
              "2  Moderately Healthy (Mixed diet with occasional...   \n",
              "3  Moderately Healthy (Mixed diet with occasional...   \n",
              "4  Healthy (Balanced diet with mix of carbs, prot...   \n",
              "\n",
              "  Do you have a family history of diabetes?  \\\n",
              "0                                        No   \n",
              "1                                        No   \n",
              "2                                        No   \n",
              "3                                       Yes   \n",
              "4                                        No   \n",
              "\n",
              "  Have you been diagnosed with hypertension(high blood pressure)?  \\\n",
              "0                                                 No                \n",
              "1                                                 No                \n",
              "2                                                 No                \n",
              "3                                                 No                \n",
              "4                                                 No                \n",
              "\n",
              "  Have you been diagnosed with heart disease? Smoking Habits?  \\\n",
              "0                                          No  I do not smoke   \n",
              "1                                          No  I do not smoke   \n",
              "2                                         yes  I do not smoke   \n",
              "3                                          No  I do not smoke   \n",
              "4                                          No  I do not smoke   \n",
              "\n",
              "   Average hours of sleep per night            Alcohol Consumption  \\\n",
              "0                               5.5  None (I do not drink alcohol)   \n",
              "1                               6.0  None (I do not drink alcohol)   \n",
              "2                               5.0  None (I do not drink alcohol)   \n",
              "3                               5.0  None (I do not drink alcohol)   \n",
              "4                               5.5  None (I do not drink alcohol)   \n",
              "\n",
              "  Do you usually eat your meals at regular times each day?  \\\n",
              "0                                 I often skip meals         \n",
              "1                                No, meal times vary         \n",
              "2                                No, meal times vary         \n",
              "3                                No, meal times vary         \n",
              "4                       Yes, mostly at the same time         \n",
              "\n",
              "  How often do you feel stressed or emotionally overwhelmed in a typical week?  \\\n",
              "0                                          Sometimes                             \n",
              "1                                          Sometimes                             \n",
              "2                                              Often                             \n",
              "3                                          Sometimes                             \n",
              "4                                          Sometimes                             \n",
              "\n",
              "   Height(m)        BMI  \n",
              "0       1.57  19.473407  \n",
              "1       1.65  16.528926  \n",
              "2       1.63  24.088223  \n",
              "3       1.57  21.096191  \n",
              "4       1.49  21.620648  "
            ],
            "text/html": [
              "\n",
              "  <div id=\"df-d0f1084c-34fa-4ac4-9de7-e4d00c4b8920\" class=\"colab-df-container\">\n",
              "    <div>\n",
              "<style scoped>\n",
              "    .dataframe tbody tr th:only-of-type {\n",
              "        vertical-align: middle;\n",
              "    }\n",
              "\n",
              "    .dataframe tbody tr th {\n",
              "        vertical-align: top;\n",
              "    }\n",
              "\n",
              "    .dataframe thead th {\n",
              "        text-align: right;\n",
              "    }\n",
              "</style>\n",
              "<table border=\"1\" class=\"dataframe\">\n",
              "  <thead>\n",
              "    <tr style=\"text-align: right;\">\n",
              "      <th></th>\n",
              "      <th>Column 1</th>\n",
              "      <th>Age</th>\n",
              "      <th>Gender</th>\n",
              "      <th>Weight(kg)</th>\n",
              "      <th>Height(cm)</th>\n",
              "      <th>Physical Activity Level</th>\n",
              "      <th>How would you describe your typical diet?</th>\n",
              "      <th>Do you have a family history of diabetes?</th>\n",
              "      <th>Have you been diagnosed with hypertension(high blood pressure)?</th>\n",
              "      <th>Have you been diagnosed with heart disease?</th>\n",
              "      <th>Smoking Habits?</th>\n",
              "      <th>Average hours of sleep per night</th>\n",
              "      <th>Alcohol Consumption</th>\n",
              "      <th>Do you usually eat your meals at regular times each day?</th>\n",
              "      <th>How often do you feel stressed or emotionally overwhelmed in a typical week?</th>\n",
              "      <th>Height(m)</th>\n",
              "      <th>BMI</th>\n",
              "    </tr>\n",
              "  </thead>\n",
              "  <tbody>\n",
              "    <tr>\n",
              "      <th>0</th>\n",
              "      <td>7/12/2025 20:42:04</td>\n",
              "      <td>24</td>\n",
              "      <td>Female</td>\n",
              "      <td>48.0</td>\n",
              "      <td>157.0</td>\n",
              "      <td>Low (Little to no regular physical activity)</td>\n",
              "      <td>Unhealthy (Mostly high-sugar, high-fat, or pro...</td>\n",
              "      <td>No</td>\n",
              "      <td>No</td>\n",
              "      <td>No</td>\n",
              "      <td>I do not smoke</td>\n",
              "      <td>5.5</td>\n",
              "      <td>None (I do not drink alcohol)</td>\n",
              "      <td>I often skip meals</td>\n",
              "      <td>Sometimes</td>\n",
              "      <td>1.57</td>\n",
              "      <td>19.473407</td>\n",
              "    </tr>\n",
              "    <tr>\n",
              "      <th>1</th>\n",
              "      <td>7/12/2025 21:09:42</td>\n",
              "      <td>24</td>\n",
              "      <td>Female</td>\n",
              "      <td>45.0</td>\n",
              "      <td>165.0</td>\n",
              "      <td>Low (Little to no regular physical activity)</td>\n",
              "      <td>Moderately Healthy (Mixed diet with occasional...</td>\n",
              "      <td>No</td>\n",
              "      <td>No</td>\n",
              "      <td>No</td>\n",
              "      <td>I do not smoke</td>\n",
              "      <td>6.0</td>\n",
              "      <td>None (I do not drink alcohol)</td>\n",
              "      <td>No, meal times vary</td>\n",
              "      <td>Sometimes</td>\n",
              "      <td>1.65</td>\n",
              "      <td>16.528926</td>\n",
              "    </tr>\n",
              "    <tr>\n",
              "      <th>2</th>\n",
              "      <td>7/12/2025 21:13:29</td>\n",
              "      <td>25</td>\n",
              "      <td>Female</td>\n",
              "      <td>64.0</td>\n",
              "      <td>163.0</td>\n",
              "      <td>Moderate – Some physical activity 1–3 days a w...</td>\n",
              "      <td>Moderately Healthy (Mixed diet with occasional...</td>\n",
              "      <td>No</td>\n",
              "      <td>No</td>\n",
              "      <td>yes</td>\n",
              "      <td>I do not smoke</td>\n",
              "      <td>5.0</td>\n",
              "      <td>None (I do not drink alcohol)</td>\n",
              "      <td>No, meal times vary</td>\n",
              "      <td>Often</td>\n",
              "      <td>1.63</td>\n",
              "      <td>24.088223</td>\n",
              "    </tr>\n",
              "    <tr>\n",
              "      <th>3</th>\n",
              "      <td>7/12/2025 21:14:58</td>\n",
              "      <td>26</td>\n",
              "      <td>Female</td>\n",
              "      <td>52.0</td>\n",
              "      <td>157.0</td>\n",
              "      <td>Moderate – Some physical activity 1–3 days a w...</td>\n",
              "      <td>Moderately Healthy (Mixed diet with occasional...</td>\n",
              "      <td>Yes</td>\n",
              "      <td>No</td>\n",
              "      <td>No</td>\n",
              "      <td>I do not smoke</td>\n",
              "      <td>5.0</td>\n",
              "      <td>None (I do not drink alcohol)</td>\n",
              "      <td>No, meal times vary</td>\n",
              "      <td>Sometimes</td>\n",
              "      <td>1.57</td>\n",
              "      <td>21.096191</td>\n",
              "    </tr>\n",
              "    <tr>\n",
              "      <th>4</th>\n",
              "      <td>7/12/2025 21:25:54</td>\n",
              "      <td>25</td>\n",
              "      <td>Female</td>\n",
              "      <td>48.0</td>\n",
              "      <td>149.0</td>\n",
              "      <td>Moderate – Some physical activity 1–3 days a w...</td>\n",
              "      <td>Healthy (Balanced diet with mix of carbs, prot...</td>\n",
              "      <td>No</td>\n",
              "      <td>No</td>\n",
              "      <td>No</td>\n",
              "      <td>I do not smoke</td>\n",
              "      <td>5.5</td>\n",
              "      <td>None (I do not drink alcohol)</td>\n",
              "      <td>Yes, mostly at the same time</td>\n",
              "      <td>Sometimes</td>\n",
              "      <td>1.49</td>\n",
              "      <td>21.620648</td>\n",
              "    </tr>\n",
              "  </tbody>\n",
              "</table>\n",
              "</div>\n",
              "    <div class=\"colab-df-buttons\">\n",
              "\n",
              "  <div class=\"colab-df-container\">\n",
              "    <button class=\"colab-df-convert\" onclick=\"convertToInteractive('df-d0f1084c-34fa-4ac4-9de7-e4d00c4b8920')\"\n",
              "            title=\"Convert this dataframe to an interactive table.\"\n",
              "            style=\"display:none;\">\n",
              "\n",
              "  <svg xmlns=\"http://www.w3.org/2000/svg\" height=\"24px\" viewBox=\"0 -960 960 960\">\n",
              "    <path d=\"M120-120v-720h720v720H120Zm60-500h600v-160H180v160Zm220 220h160v-160H400v160Zm0 220h160v-160H400v160ZM180-400h160v-160H180v160Zm440 0h160v-160H620v160ZM180-180h160v-160H180v160Zm440 0h160v-160H620v160Z\"/>\n",
              "  </svg>\n",
              "    </button>\n",
              "\n",
              "  <style>\n",
              "    .colab-df-container {\n",
              "      display:flex;\n",
              "      gap: 12px;\n",
              "    }\n",
              "\n",
              "    .colab-df-convert {\n",
              "      background-color: #E8F0FE;\n",
              "      border: none;\n",
              "      border-radius: 50%;\n",
              "      cursor: pointer;\n",
              "      display: none;\n",
              "      fill: #1967D2;\n",
              "      height: 32px;\n",
              "      padding: 0 0 0 0;\n",
              "      width: 32px;\n",
              "    }\n",
              "\n",
              "    .colab-df-convert:hover {\n",
              "      background-color: #E2EBFA;\n",
              "      box-shadow: 0px 1px 2px rgba(60, 64, 67, 0.3), 0px 1px 3px 1px rgba(60, 64, 67, 0.15);\n",
              "      fill: #174EA6;\n",
              "    }\n",
              "\n",
              "    .colab-df-buttons div {\n",
              "      margin-bottom: 4px;\n",
              "    }\n",
              "\n",
              "    [theme=dark] .colab-df-convert {\n",
              "      background-color: #3B4455;\n",
              "      fill: #D2E3FC;\n",
              "    }\n",
              "\n",
              "    [theme=dark] .colab-df-convert:hover {\n",
              "      background-color: #434B5C;\n",
              "      box-shadow: 0px 1px 3px 1px rgba(0, 0, 0, 0.15);\n",
              "      filter: drop-shadow(0px 1px 2px rgba(0, 0, 0, 0.3));\n",
              "      fill: #FFFFFF;\n",
              "    }\n",
              "  </style>\n",
              "\n",
              "    <script>\n",
              "      const buttonEl =\n",
              "        document.querySelector('#df-d0f1084c-34fa-4ac4-9de7-e4d00c4b8920 button.colab-df-convert');\n",
              "      buttonEl.style.display =\n",
              "        google.colab.kernel.accessAllowed ? 'block' : 'none';\n",
              "\n",
              "      async function convertToInteractive(key) {\n",
              "        const element = document.querySelector('#df-d0f1084c-34fa-4ac4-9de7-e4d00c4b8920');\n",
              "        const dataTable =\n",
              "          await google.colab.kernel.invokeFunction('convertToInteractive',\n",
              "                                                    [key], {});\n",
              "        if (!dataTable) return;\n",
              "\n",
              "        const docLinkHtml = 'Like what you see? Visit the ' +\n",
              "          '<a target=\"_blank\" href=https://colab.research.google.com/notebooks/data_table.ipynb>data table notebook</a>'\n",
              "          + ' to learn more about interactive tables.';\n",
              "        element.innerHTML = '';\n",
              "        dataTable['output_type'] = 'display_data';\n",
              "        await google.colab.output.renderOutput(dataTable, element);\n",
              "        const docLink = document.createElement('div');\n",
              "        docLink.innerHTML = docLinkHtml;\n",
              "        element.appendChild(docLink);\n",
              "      }\n",
              "    </script>\n",
              "  </div>\n",
              "\n",
              "\n",
              "    <div id=\"df-35357d01-d24c-4d2b-9d38-7be2fd09bf54\">\n",
              "      <button class=\"colab-df-quickchart\" onclick=\"quickchart('df-35357d01-d24c-4d2b-9d38-7be2fd09bf54')\"\n",
              "                title=\"Suggest charts\"\n",
              "                style=\"display:none;\">\n",
              "\n",
              "<svg xmlns=\"http://www.w3.org/2000/svg\" height=\"24px\"viewBox=\"0 0 24 24\"\n",
              "     width=\"24px\">\n",
              "    <g>\n",
              "        <path d=\"M19 3H5c-1.1 0-2 .9-2 2v14c0 1.1.9 2 2 2h14c1.1 0 2-.9 2-2V5c0-1.1-.9-2-2-2zM9 17H7v-7h2v7zm4 0h-2V7h2v10zm4 0h-2v-4h2v4z\"/>\n",
              "    </g>\n",
              "</svg>\n",
              "      </button>\n",
              "\n",
              "<style>\n",
              "  .colab-df-quickchart {\n",
              "      --bg-color: #E8F0FE;\n",
              "      --fill-color: #1967D2;\n",
              "      --hover-bg-color: #E2EBFA;\n",
              "      --hover-fill-color: #174EA6;\n",
              "      --disabled-fill-color: #AAA;\n",
              "      --disabled-bg-color: #DDD;\n",
              "  }\n",
              "\n",
              "  [theme=dark] .colab-df-quickchart {\n",
              "      --bg-color: #3B4455;\n",
              "      --fill-color: #D2E3FC;\n",
              "      --hover-bg-color: #434B5C;\n",
              "      --hover-fill-color: #FFFFFF;\n",
              "      --disabled-bg-color: #3B4455;\n",
              "      --disabled-fill-color: #666;\n",
              "  }\n",
              "\n",
              "  .colab-df-quickchart {\n",
              "    background-color: var(--bg-color);\n",
              "    border: none;\n",
              "    border-radius: 50%;\n",
              "    cursor: pointer;\n",
              "    display: none;\n",
              "    fill: var(--fill-color);\n",
              "    height: 32px;\n",
              "    padding: 0;\n",
              "    width: 32px;\n",
              "  }\n",
              "\n",
              "  .colab-df-quickchart:hover {\n",
              "    background-color: var(--hover-bg-color);\n",
              "    box-shadow: 0 1px 2px rgba(60, 64, 67, 0.3), 0 1px 3px 1px rgba(60, 64, 67, 0.15);\n",
              "    fill: var(--button-hover-fill-color);\n",
              "  }\n",
              "\n",
              "  .colab-df-quickchart-complete:disabled,\n",
              "  .colab-df-quickchart-complete:disabled:hover {\n",
              "    background-color: var(--disabled-bg-color);\n",
              "    fill: var(--disabled-fill-color);\n",
              "    box-shadow: none;\n",
              "  }\n",
              "\n",
              "  .colab-df-spinner {\n",
              "    border: 2px solid var(--fill-color);\n",
              "    border-color: transparent;\n",
              "    border-bottom-color: var(--fill-color);\n",
              "    animation:\n",
              "      spin 1s steps(1) infinite;\n",
              "  }\n",
              "\n",
              "  @keyframes spin {\n",
              "    0% {\n",
              "      border-color: transparent;\n",
              "      border-bottom-color: var(--fill-color);\n",
              "      border-left-color: var(--fill-color);\n",
              "    }\n",
              "    20% {\n",
              "      border-color: transparent;\n",
              "      border-left-color: var(--fill-color);\n",
              "      border-top-color: var(--fill-color);\n",
              "    }\n",
              "    30% {\n",
              "      border-color: transparent;\n",
              "      border-left-color: var(--fill-color);\n",
              "      border-top-color: var(--fill-color);\n",
              "      border-right-color: var(--fill-color);\n",
              "    }\n",
              "    40% {\n",
              "      border-color: transparent;\n",
              "      border-right-color: var(--fill-color);\n",
              "      border-top-color: var(--fill-color);\n",
              "    }\n",
              "    60% {\n",
              "      border-color: transparent;\n",
              "      border-right-color: var(--fill-color);\n",
              "    }\n",
              "    80% {\n",
              "      border-color: transparent;\n",
              "      border-right-color: var(--fill-color);\n",
              "      border-bottom-color: var(--fill-color);\n",
              "    }\n",
              "    90% {\n",
              "      border-color: transparent;\n",
              "      border-bottom-color: var(--fill-color);\n",
              "    }\n",
              "  }\n",
              "</style>\n",
              "\n",
              "      <script>\n",
              "        async function quickchart(key) {\n",
              "          const quickchartButtonEl =\n",
              "            document.querySelector('#' + key + ' button');\n",
              "          quickchartButtonEl.disabled = true;  // To prevent multiple clicks.\n",
              "          quickchartButtonEl.classList.add('colab-df-spinner');\n",
              "          try {\n",
              "            const charts = await google.colab.kernel.invokeFunction(\n",
              "                'suggestCharts', [key], {});\n",
              "          } catch (error) {\n",
              "            console.error('Error during call to suggestCharts:', error);\n",
              "          }\n",
              "          quickchartButtonEl.classList.remove('colab-df-spinner');\n",
              "          quickchartButtonEl.classList.add('colab-df-quickchart-complete');\n",
              "        }\n",
              "        (() => {\n",
              "          let quickchartButtonEl =\n",
              "            document.querySelector('#df-35357d01-d24c-4d2b-9d38-7be2fd09bf54 button');\n",
              "          quickchartButtonEl.style.display =\n",
              "            google.colab.kernel.accessAllowed ? 'block' : 'none';\n",
              "        })();\n",
              "      </script>\n",
              "    </div>\n",
              "\n",
              "    </div>\n",
              "  </div>\n"
            ],
            "application/vnd.google.colaboratory.intrinsic+json": {
              "type": "dataframe",
              "variable_name": "df",
              "summary": "{\n  \"name\": \"df\",\n  \"rows\": 195,\n  \"fields\": [\n    {\n      \"column\": \"Column 1\",\n      \"properties\": {\n        \"dtype\": \"object\",\n        \"num_unique_values\": 195,\n        \"samples\": [\n          \"8/1/2025 15:27:10\",\n          \"7/12/2025 22:40:14\",\n          \"8/1/2025 19:28:56\"\n        ],\n        \"semantic_type\": \"\",\n        \"description\": \"\"\n      }\n    },\n    {\n      \"column\": \"Age\",\n      \"properties\": {\n        \"dtype\": \"number\",\n        \"std\": 1,\n        \"min\": 22,\n        \"max\": 27,\n        \"num_unique_values\": 6,\n        \"samples\": [\n          24,\n          25,\n          27\n        ],\n        \"semantic_type\": \"\",\n        \"description\": \"\"\n      }\n    },\n    {\n      \"column\": \"Gender\",\n      \"properties\": {\n        \"dtype\": \"category\",\n        \"num_unique_values\": 3,\n        \"samples\": [\n          \"Female\",\n          \"Male\",\n          \"male\"\n        ],\n        \"semantic_type\": \"\",\n        \"description\": \"\"\n      }\n    },\n    {\n      \"column\": \"Weight(kg)\",\n      \"properties\": {\n        \"dtype\": \"number\",\n        \"std\": 10.202627225365143,\n        \"min\": 24.0,\n        \"max\": 88.0,\n        \"num_unique_values\": 43,\n        \"samples\": [\n          77.0,\n          69.95,\n          58.8\n        ],\n        \"semantic_type\": \"\",\n        \"description\": \"\"\n      }\n    },\n    {\n      \"column\": \"Height(cm)\",\n      \"properties\": {\n        \"dtype\": \"number\",\n        \"std\": 9.482576729598625,\n        \"min\": 148.0,\n        \"max\": 186.0,\n        \"num_unique_values\": 40,\n        \"samples\": [\n          152.4,\n          155.0,\n          164.0\n        ],\n        \"semantic_type\": \"\",\n        \"description\": \"\"\n      }\n    },\n    {\n      \"column\": \"Physical Activity Level\",\n      \"properties\": {\n        \"dtype\": \"category\",\n        \"num_unique_values\": 3,\n        \"samples\": [\n          \"Low (Little to no regular physical activity)\",\n          \"Moderate \\u2013 Some physical activity 1\\u20133 days a week (e.g., walking, light exercise)\",\n          \"High \\u2013 Regular physical activity 4 or more days a week (e.g., gym, sports, running)\"\n        ],\n        \"semantic_type\": \"\",\n        \"description\": \"\"\n      }\n    },\n    {\n      \"column\": \"How would you describe your typical diet?\",\n      \"properties\": {\n        \"dtype\": \"category\",\n        \"num_unique_values\": 3,\n        \"samples\": [\n          \"Unhealthy (Mostly high-sugar, high-fat, or processed foods with few fruits/vegetables)\",\n          \"Moderately Healthy (Mixed diet with occasional healthy meals and some fast food or processed items)\",\n          \"Healthy (Balanced diet with mix of carbs, proteins, vegetables, limited sugar and processed foods)\"\n        ],\n        \"semantic_type\": \"\",\n        \"description\": \"\"\n      }\n    },\n    {\n      \"column\": \"Do you have a family history of diabetes?\",\n      \"properties\": {\n        \"dtype\": \"category\",\n        \"num_unique_values\": 2,\n        \"samples\": [\n          \"Yes\",\n          \"No\"\n        ],\n        \"semantic_type\": \"\",\n        \"description\": \"\"\n      }\n    },\n    {\n      \"column\": \"Have you been diagnosed with hypertension(high blood pressure)?\",\n      \"properties\": {\n        \"dtype\": \"category\",\n        \"num_unique_values\": 3,\n        \"samples\": [\n          \"No\",\n          \"yes\"\n        ],\n        \"semantic_type\": \"\",\n        \"description\": \"\"\n      }\n    },\n    {\n      \"column\": \"Have you been diagnosed with heart disease?\",\n      \"properties\": {\n        \"dtype\": \"category\",\n        \"num_unique_values\": 3,\n        \"samples\": [\n          \"No\",\n          \"yes\"\n        ],\n        \"semantic_type\": \"\",\n        \"description\": \"\"\n      }\n    },\n    {\n      \"column\": \"Smoking Habits?\",\n      \"properties\": {\n        \"dtype\": \"category\",\n        \"num_unique_values\": 5,\n        \"samples\": [\n          \"Used to smoke but quit\",\n          \"3-6 times per week\"\n        ],\n        \"semantic_type\": \"\",\n        \"description\": \"\"\n      }\n    },\n    {\n      \"column\": \"Average hours of sleep per night\",\n      \"properties\": {\n        \"dtype\": \"number\",\n        \"std\": 1.1792606007015183,\n        \"min\": 3.0,\n        \"max\": 9.0,\n        \"num_unique_values\": 9,\n        \"samples\": [\n          4.5,\n          6.0\n        ],\n        \"semantic_type\": \"\",\n        \"description\": \"\"\n      }\n    },\n    {\n      \"column\": \"Alcohol Consumption\",\n      \"properties\": {\n        \"dtype\": \"category\",\n        \"num_unique_values\": 3,\n        \"samples\": [\n          \"None (I do not drink alcohol)\",\n          \"Occasional (e.g., social drinking, 1\\u20132 times per month)\"\n        ],\n        \"semantic_type\": \"\",\n        \"description\": \"\"\n      }\n    },\n    {\n      \"column\": \"Do you usually eat your meals at regular times each day?\",\n      \"properties\": {\n        \"dtype\": \"category\",\n        \"num_unique_values\": 3,\n        \"samples\": [\n          \"I often skip meals\",\n          \"No, meal times vary\"\n        ],\n        \"semantic_type\": \"\",\n        \"description\": \"\"\n      }\n    },\n    {\n      \"column\": \"How often do you feel stressed or emotionally overwhelmed in a typical week?\",\n      \"properties\": {\n        \"dtype\": \"category\",\n        \"num_unique_values\": 4,\n        \"samples\": [\n          \"Often\",\n          \"Rarely\"\n        ],\n        \"semantic_type\": \"\",\n        \"description\": \"\"\n      }\n    },\n    {\n      \"column\": \"Height(m)\",\n      \"properties\": {\n        \"dtype\": \"number\",\n        \"std\": 0.09482576729598625,\n        \"min\": 1.48,\n        \"max\": 1.86,\n        \"num_unique_values\": 40,\n        \"samples\": [\n          1.524,\n          1.55\n        ],\n        \"semantic_type\": \"\",\n        \"description\": \"\"\n      }\n    },\n    {\n      \"column\": \"BMI\",\n      \"properties\": {\n        \"dtype\": \"number\",\n        \"std\": 2.610845584019241,\n        \"min\": 9.613843935266782,\n        \"max\": 29.687499999999993,\n        \"num_unique_values\": 159,\n        \"samples\": [\n          21.484374999999996,\n          18.209876543209877\n        ],\n        \"semantic_type\": \"\",\n        \"description\": \"\"\n      }\n    }\n  ]\n}"
            }
          },
          "metadata": {},
          "execution_count": 13
        }
      ]
    },
    {
      "cell_type": "code",
      "source": [
        "before = df.shape[0]\n",
        "df = df.drop_duplicates()\n",
        "after = df.shape[0]\n",
        "print(f\"Removed {before - after} duplicate rows.\")"
      ],
      "metadata": {
        "colab": {
          "base_uri": "https://localhost:8080/"
        },
        "id": "KeLqN3piQ3Sb",
        "outputId": "9d53cc0b-d1b1-411f-ca8f-92d235669785"
      },
      "execution_count": 14,
      "outputs": [
        {
          "output_type": "stream",
          "name": "stdout",
          "text": [
            "Removed 0 duplicate rows.\n"
          ]
        }
      ]
    },
    {
      "cell_type": "code",
      "source": [
        "df[\"AgeGroup\"] = pd.cut(df[\"Age\"], bins=[20, 30, 40, 50, 60, 100], labels=[\"20s\", \"30s\", \"40s\", \"50s\", \"60+\"])"
      ],
      "metadata": {
        "id": "deO6Q7cLQ-9w"
      },
      "execution_count": 15,
      "outputs": []
    },
    {
      "cell_type": "code",
      "source": [
        "numeric_df = df.select_dtypes(include=['float64', 'int64'])"
      ],
      "metadata": {
        "id": "gtt9oCM1RCFE"
      },
      "execution_count": 16,
      "outputs": []
    },
    {
      "cell_type": "code",
      "source": [
        "import seaborn as sns\n",
        "import matplotlib.pyplot as plt\n",
        "\n",
        "plt.figure(figsize=(7, 4))\n",
        "sns.heatmap(numeric_df.corr(), annot=True, cmap='coolwarm', fmt=\".2f\")\n",
        "plt.title(\"Correlation Matrix of Numeric Features\")\n",
        "plt.tight_layout()\n",
        "plt.show()"
      ],
      "metadata": {
        "collapsed": true,
        "colab": {
          "base_uri": "https://localhost:8080/",
          "height": 407
        },
        "id": "ouU2Wyh3RH75",
        "outputId": "953d2b82-de1f-4c44-ae63-f67ddbeb7ad0"
      },
      "execution_count": 17,
      "outputs": [
        {
          "output_type": "display_data",
          "data": {
            "text/plain": [
              "<Figure size 700x400 with 2 Axes>"
            ],
            "image/png": "[encoded data removed]"
          },
          "metadata": {}
        }
      ]
    },
    {
      "cell_type": "code",
      "source": [
        "from sklearn.preprocessing import LabelEncoder\n",
        "\n",
        "le = LabelEncoder()\n",
        "df[\"AgeGroup\"] = le.fit_transform(df[\"AgeGroup\"].astype(str))\n"
      ],
      "metadata": {
        "id": "JNXtrlDtRKdJ"
      },
      "execution_count": 18,
      "outputs": []
    },
    {
      "cell_type": "code",
      "source": [
        "\n",
        "categorical_cols = [\n",
        "    \"Gender\",\n",
        "    \"Physical Activity Level\",\n",
        "    \"How would you describe your typical diet?\",\n",
        "    \"Do you have a family history of diabetes?\",\n",
        "    \"Have you been diagnosed with hypertension(high blood pressure)?\",\n",
        "    \"Have you been diagnosed with heart disease?\",\n",
        "    \"Smoking Habits?\",\n",
        "    \"Alcohol Consumption\",\n",
        "    \"Do you usually eat your meals at regular times each day?\",\n",
        "    \"How often do you feel stressed or emotionally overwhelmed in a typical week?\",\n",
        "]\n",
        "\n",
        "df = pd.get_dummies(df, columns=categorical_cols, drop_first=True)"
      ],
      "metadata": {
        "id": "pnGsngwVRO51"
      },
      "execution_count": 19,
      "outputs": []
    },
    {
      "cell_type": "code",
      "source": [
        "target = df[\"Do you have a family history of diabetes?_Yes\"]\n",
        "features = df.drop(columns=[\"Do you have a family history of diabetes?_Yes\"])"
      ],
      "metadata": {
        "id": "1VepvW8sRRWh"
      },
      "execution_count": 20,
      "outputs": []
    },
    {
      "cell_type": "code",
      "source": [
        "from sklearn.preprocessing import StandardScaler\n",
        "\n",
        "scaler = StandardScaler()\n",
        "scaled_cols = [\"Age\", \"BMI\", \"Average hours of sleep per night\", \"Weight(kg)\", \"Height(cm)\"]\n",
        "\n",
        "df[scaled_cols] = scaler.fit_transform(df[scaled_cols])"
      ],
      "metadata": {
        "id": "eQP2SSjoRUGs"
      },
      "execution_count": 21,
      "outputs": []
    },
    {
      "cell_type": "code",
      "source": [
        "# Show all columns of object or category dtype\n",
        "categorical_candidates = df.select_dtypes(include=['object', 'category']).columns.tolist()\n",
        "print(\"Possible categorical features:\", categorical_candidates)\n",
        "\n",
        "# Then exclude the ones you already encoded\n",
        "other_categorical_features = [col for col in categorical_candidates if col not in categorical_cols]\n",
        "print(\"Other categorical features to encode:\", other_categorical_features)\n"
      ],
      "metadata": {
        "colab": {
          "base_uri": "https://localhost:8080/"
        },
        "id": "kqfPcBKJRWuN",
        "outputId": "55e7c41c-47e6-402c-9e76-5e4c6547340f"
      },
      "execution_count": 22,
      "outputs": [
        {
          "output_type": "stream",
          "name": "stdout",
          "text": [
            "Possible categorical features: ['Column 1']\n",
            "Other categorical features to encode: ['Column 1']\n"
          ]
        }
      ]
    },
    {
      "cell_type": "code",
      "source": [
        "X_train = pd.read_csv(\"/content/Diabetes Risk Assessment – Anonymous Health Survey  (Responses) - Form Responses 2.csv\")"
      ],
      "metadata": {
        "id": "ENcfqXlJRY0H"
      },
      "execution_count": 23,
      "outputs": []
    },
    {
      "cell_type": "code",
      "source": [
        "X_train.columns = X_train.columns.str.strip()  # remove leading/trailing spaces"
      ],
      "metadata": {
        "id": "dC_ATD8iRgSL"
      },
      "execution_count": 24,
      "outputs": []
    },
    {
      "cell_type": "code",
      "source": [
        "df.to_csv('preprocessed_data.csv', index=False)"
      ],
      "metadata": {
        "id": "ex5De1UgRkaA"
      },
      "execution_count": 25,
      "outputs": []
    },
    {
      "cell_type": "code",
      "source": [
        "from google.colab import files\n",
        "files.download('preprocessed_data.csv')"
      ],
      "metadata": {
        "colab": {
          "base_uri": "https://localhost:8080/",
          "height": 17
        },
        "id": "R--nJ5CJSIdD",
        "outputId": "44f04b5d-732d-43a7-a977-db565433b094"
      },
      "execution_count": 26,
      "outputs": [
        {
          "output_type": "display_data",
          "data": {
            "text/plain": [
              "<IPython.core.display.Javascript object>"
            ],
            "application/javascript": [
              "\n",
              "    async function download(id, filename, size) {\n",
              "      if (!google.colab.kernel.accessAllowed) {\n",
              "        return;\n",
              "      }\n",
              "      const div = document.createElement('div');\n",
              "      const label = document.createElement('label');\n",
              "      label.textContent = `Downloading \"${filename}\": `;\n",
              "      div.appendChild(label);\n",
              "      const progress = document.createElement('progress');\n",
              "      progress.max = size;\n",
              "      div.appendChild(progress);\n",
              "      document.body.appendChild(div);\n",
              "\n",
              "      const buffers = [];\n",
              "      let downloaded = 0;\n",
              "\n",
              "      const channel = await google.colab.kernel.comms.open(id);\n",
              "      // Send a message to notify the kernel that we're ready.\n",
              "      channel.send({})\n",
              "\n",
              "      for await (const message of channel.messages) {\n",
              "        // Send a message to notify the kernel that we're ready.\n",
              "        channel.send({})\n",
              "        if (message.buffers) {\n",
              "          for (const buffer of message.buffers) {\n",
              "            buffers.push(buffer);\n",
              "            downloaded += buffer.byteLength;\n",
              "            progress.value = downloaded;\n",
              "          }\n",
              "        }\n",
              "      }\n",
              "      const blob = new Blob(buffers, {type: 'application/binary'});\n",
              "      const a = document.createElement('a');\n",
              "      a.href = window.URL.createObjectURL(blob);\n",
              "      a.download = filename;\n",
              "      div.appendChild(a);\n",
              "      a.click();\n",
              "      div.remove();\n",
              "    }\n",
              "  "
            ]
          },
          "metadata": {}
        },
        {
          "output_type": "display_data",
          "data": {
            "text/plain": [
              "<IPython.core.display.Javascript object>"
            ],
            "application/javascript": [
              "download(\"download_c4416c24-0d67-4131-99f4-24a5bb71726b\", \"preprocessed_data.csv\", 50142)"
            ]
          },
          "metadata": {}
        }
      ]
    },
    {
      "cell_type": "code",
      "source": [
        "import pandas as pd\n",
        "import numpy as np\n",
        "from sklearn.model_selection import train_test_split\n",
        "from sklearn.preprocessing import StandardScaler\n",
        "from tensorflow.keras.models import Sequential\n",
        "from tensorflow.keras.layers import Dense\n",
        "from tensorflow.keras.optimizers import Adam\n",
        "from tensorflow.keras.losses import BinaryCrossentropy\n",
        "from tensorflow.keras.metrics import Accuracy"
      ],
      "metadata": {
        "id": "De-I7NRoSMzp"
      },
      "execution_count": 27,
      "outputs": []
    },
    {
      "cell_type": "code",
      "source": [
        "print(df.columns.tolist())"
      ],
      "metadata": {
        "colab": {
          "base_uri": "https://localhost:8080/"
        },
        "id": "bmU8opqzShC9",
        "outputId": "a3d9d32c-7408-41b6-812f-911094bdb6e1"
      },
      "execution_count": 28,
      "outputs": [
        {
          "output_type": "stream",
          "name": "stdout",
          "text": [
            "['Column 1', 'Age', 'Weight(kg)', 'Height(cm)', 'Average hours of sleep per night', 'Height(m)', 'BMI', 'AgeGroup', 'Gender_Male', 'Gender_male', 'Physical Activity Level_Low (Little to no regular physical activity)', 'Physical Activity Level_Moderate – Some physical activity 1–3 days a week (e.g., walking, light exercise)', 'How would you describe your typical diet?_Moderately Healthy (Mixed diet with occasional healthy meals and some fast food or processed items)', 'How would you describe your typical diet?_Unhealthy (Mostly high-sugar, high-fat, or processed foods with few fruits/vegetables)', 'Do you have a family history of diabetes?_Yes', 'Have you been diagnosed with hypertension(high blood pressure)?_Yes', 'Have you been diagnosed with hypertension(high blood pressure)?_yes', 'Have you been diagnosed with heart disease?_Yes', 'Have you been diagnosed with heart disease?_yes', 'Smoking Habits?_3-6 times per week', 'Smoking Habits?_I do not smoke', 'Smoking Habits?_Occasionally (Less than once a week)', 'Smoking Habits?_Used to smoke but quit', 'Alcohol Consumption_None (I do not drink alcohol)', 'Alcohol Consumption_Occasional (e.g., social drinking, 1–2 times per month)', 'Do you usually eat your meals at regular times each day?_No, meal times vary', 'Do you usually eat your meals at regular times each day?_Yes, mostly at the same time', 'How often do you feel stressed or emotionally overwhelmed in a typical week?_Often', 'How often do you feel stressed or emotionally overwhelmed in a typical week?_Rarely', 'How often do you feel stressed or emotionally overwhelmed in a typical week?_Sometimes']\n"
          ]
        }
      ]
    },
    {
      "cell_type": "code",
      "source": [
        "df['Diabetes_Risk'] = (\n",
        "    # Rule 1: Diet Unhealthy AND Activity Low\n",
        "    (df['How would you describe your typical diet?_Unhealthy (Mostly high-sugar, high-fat, or processed foods with few fruits/vegetables)'] == 1) &\n",
        "    (df['Physical Activity Level_Low (Little to no regular physical activity)'] == 1) |\n",
        "\n",
        "    # Rule 2: Poor Sleep (<5 hours) AND High Stress\n",
        "    (df['AgeGroup'] < 5.0) &\n",
        "    (df['How often do you feel stressed or emotionally overwhelmed in a typical week?_Often'] == 1) |\n",
        "\n",
        "    # Rule 3: Smoking 3–6 times per week\n",
        "    (df['Smoking Habits?_3-6 times per week'] == 1) |\n",
        "\n",
        "    # Rule 4: Irregular meals AND Unhealthy diet\n",
        "    (df['Do you usually eat your meals at regular times each day?_No, meal times vary'] == 1) &\n",
        "    (df['How would you describe your typical diet?_Unhealthy (Mostly high-sugar, high-fat, or processed foods with few fruits/vegetables)'] == 1) |\n",
        "\n",
        "    # Rule 5: Family history of diabetes\n",
        "    (df['Do you have a family history of diabetes?_Yes'] == 1) |\n",
        "\n",
        "    # Rule 6: Heart disease or Hypertension\n",
        "    (df['Have you been diagnosed with heart disease?_Yes'] == 1) |\n",
        "    (df['Have you been diagnosed with hypertension(high blood pressure)?_Yes'] == 1) |\n",
        "\n",
        "    # Rule 8: Alcohol Occasional AND Smoking Occasional\n",
        "    (df['Alcohol Consumption_Occasional (e.g., social drinking, 1–2 times per month)'] == 1) &\n",
        "    (df['Smoking Habits?_Occasionally (Less than once a week)'] == 1)\n",
        ").astype(int)\n"
      ],
      "metadata": {
        "id": "G3bvsb9lSXAv"
      },
      "execution_count": 94,
      "outputs": []
    },
    {
      "cell_type": "code",
      "source": [
        "print(df['Diabetes_Risk'].value_counts())"
      ],
      "metadata": {
        "colab": {
          "base_uri": "https://localhost:8080/"
        },
        "id": "3D61Gh7ISreB",
        "outputId": "9851d89c-5fc5-4524-a433-c1e46d4f18d4"
      },
      "execution_count": 95,
      "outputs": [
        {
          "output_type": "stream",
          "name": "stdout",
          "text": [
            "Diabetes_Risk\n",
            "1    144\n",
            "0     51\n",
            "Name: count, dtype: int64\n"
          ]
        }
      ]
    },
    {
      "cell_type": "code",
      "source": [
        "df_shuffled = df.sample(frac=1, random_state=42).reset_index(drop=True)"
      ],
      "metadata": {
        "id": "gNLGevpLTjyj"
      },
      "execution_count": 96,
      "outputs": []
    },
    {
      "cell_type": "code",
      "source": [
        "# Set target\n",
        "target = 'Diabetes_Risk'\n",
        "\n",
        "# Set features (drop the label column itself)\n",
        "X = df.drop(columns=[target])\n",
        "\n",
        "# Keep only numeric/binary columns\n",
        "X = X.select_dtypes(include=['int64', 'float64', 'bool'])\n",
        "\n",
        "# Convert all bools to int\n",
        "X = X.astype(int)\n",
        "\n",
        "# Target\n",
        "y = df[target]"
      ],
      "metadata": {
        "id": "8KfVeg1DT32N"
      },
      "execution_count": 97,
      "outputs": []
    },
    {
      "cell_type": "code",
      "source": [
        "from sklearn.model_selection import train_test_split\n",
        "from sklearn.preprocessing import StandardScaler\n",
        "\n",
        "scaler = StandardScaler()\n",
        "X_scaled = scaler.fit_transform(X)\n",
        "\n",
        "X_train, X_test, y_train, y_test = train_test_split(X_scaled, y, test_size=0.2, random_state=42)"
      ],
      "metadata": {
        "id": "nlhwntKbTorR"
      },
      "execution_count": 98,
      "outputs": []
    },
    {
      "cell_type": "code",
      "source": [
        "from tensorflow.keras.models import Sequential\n",
        "from tensorflow.keras.layers import Dense\n",
        "from tensorflow.keras.optimizers import SGD\n",
        "\n",
        "# Build the model according to grid search best parameters\n",
        "model = Sequential()\n",
        "model.add(Dense(32, activation='sigmoid', input_shape=(X_train.shape[1],)))\n",
        "\n",
        "# num_layers = 1 means only the first hidden layer (already added above)\n",
        "# So no extra hidden layers are added here\n",
        "\n",
        "model.add(Dense(1, activation='sigmoid'))  # Output layer for binary classification\n"
      ],
      "metadata": {
        "id": "r_35Ujn5Tu0L",
        "colab": {
          "base_uri": "https://localhost:8080/"
        },
        "outputId": "0ee242c7-6ffb-4004-edbf-3981d27bc513"
      },
      "execution_count": 99,
      "outputs": [
        {
          "output_type": "stream",
          "name": "stderr",
          "text": [
            "/usr/local/lib/python3.12/dist-packages/keras/src/layers/core/dense.py:93: UserWarning: Do not pass an `input_shape`/`input_dim` argument to a layer. When using Sequential models, prefer using an `Input(shape)` object as the first layer in the model instead.\n",
            "  super().__init__(activity_regularizer=activity_regularizer, **kwargs)\n"
          ]
        }
      ]
    },
    {
      "cell_type": "code",
      "source": [
        "import tensorflow as tf\n",
        "from tensorflow.keras.models import Sequential\n",
        "from tensorflow.keras.layers import Dense\n",
        "from tensorflow.keras.optimizers import SGD\n",
        "\n",
        "# Parameters from grid search\n",
        "batch_size = 16\n",
        "epochs = 50\n",
        "activation = 'sigmoid'\n",
        "loss = 'binary_crossentropy'\n",
        "optimizer = Adam()  # Default SGD optimizer; you can customize learning rate, momentum, etc.\n",
        "\n",
        "# Build model based on best params\n",
        "model = Sequential()\n",
        "\n",
        "# Input layer + first hidden layer\n",
        "# Assuming input_dim = number of features in your dataset, e.g., 15\n",
        "input_dim = X_train.shape[1]  # replace X_train with your training data variable\n",
        "\n",
        "# Because num_layers=1 means 1 hidden layer + output layer\n",
        "model.add(Dense(32, activation=activation, input_dim=input_dim))  # 16 neurons (example)\n",
        "\n",
        "# Output layer for binary classification\n",
        "model.add(Dense(1, activation='sigmoid'))  # sigmoid activation for binary output\n",
        "\n",
        "# Compile model\n",
        "model.compile(optimizer=optimizer, loss=loss, metrics=['accuracy'])\n",
        "\n",
        "# Train model\n",
        "history = model.fit(X_train, y_train, batch_size=batch_size, epochs=epochs, validation_split=0.2)\n"
      ],
      "metadata": {
        "colab": {
          "base_uri": "https://localhost:8080/"
        },
        "id": "gUTebaUoUTMJ",
        "outputId": "296faa67-24a1-4d39-e039-5760846356a0"
      },
      "execution_count": 100,
      "outputs": [
        {
          "output_type": "stream",
          "name": "stdout",
          "text": [
            "Epoch 1/50\n",
            "\u001b[1m8/8\u001b[0m \u001b[32m━━━━━━━━━━━━━━━━━━━━\u001b[0m\u001b[37m\u001b[0m \u001b[1m1s\u001b[0m 41ms/step - accuracy: 0.6570 - loss: 0.6399 - val_accuracy: 0.6250 - val_loss: 0.6669\n",
            "Epoch 2/50\n",
            "\u001b[1m8/8\u001b[0m \u001b[32m━━━━━━━━━━━━━━━━━━━━\u001b[0m\u001b[37m\u001b[0m \u001b[1m0s\u001b[0m 12ms/step - accuracy: 0.7724 - loss: 0.5751 - val_accuracy: 0.6562 - val_loss: 0.6526\n",
            "Epoch 3/50\n",
            "\u001b[1m8/8\u001b[0m \u001b[32m━━━━━━━━━━━━━━━━━━━━\u001b[0m\u001b[37m\u001b[0m \u001b[1m0s\u001b[0m 12ms/step - accuracy: 0.7560 - loss: 0.5735 - val_accuracy: 0.6562 - val_loss: 0.6428\n",
            "Epoch 4/50\n",
            "\u001b[1m8/8\u001b[0m \u001b[32m━━━━━━━━━━━━━━━━━━━━\u001b[0m\u001b[37m\u001b[0m \u001b[1m0s\u001b[0m 12ms/step - accuracy: 0.7156 - loss: 0.5776 - val_accuracy: 0.6562 - val_loss: 0.6345\n",
            "Epoch 5/50\n",
            "\u001b[1m8/8\u001b[0m \u001b[32m━━━━━━━━━━━━━━━━━━━━\u001b[0m\u001b[37m\u001b[0m \u001b[1m0s\u001b[0m 13ms/step - accuracy: 0.7701 - loss: 0.5311 - val_accuracy: 0.6562 - val_loss: 0.6278\n",
            "Epoch 6/50\n",
            "\u001b[1m8/8\u001b[0m \u001b[32m━━━━━━━━━━━━━━━━━━━━\u001b[0m\u001b[37m\u001b[0m \u001b[1m0s\u001b[0m 12ms/step - accuracy: 0.7670 - loss: 0.5131 - val_accuracy: 0.6562 - val_loss: 0.6221\n",
            "Epoch 7/50\n",
            "\u001b[1m8/8\u001b[0m \u001b[32m━━━━━━━━━━━━━━━━━━━━\u001b[0m\u001b[37m\u001b[0m \u001b[1m0s\u001b[0m 13ms/step - accuracy: 0.7786 - loss: 0.4844 - val_accuracy: 0.6562 - val_loss: 0.6160\n",
            "Epoch 8/50\n",
            "\u001b[1m8/8\u001b[0m \u001b[32m━━━━━━━━━━━━━━━━━━━━\u001b[0m\u001b[37m\u001b[0m \u001b[1m0s\u001b[0m 15ms/step - accuracy: 0.7139 - loss: 0.5404 - val_accuracy: 0.6562 - val_loss: 0.6091\n",
            "Epoch 9/50\n",
            "\u001b[1m8/8\u001b[0m \u001b[32m━━━━━━━━━━━━━━━━━━━━\u001b[0m\u001b[37m\u001b[0m \u001b[1m0s\u001b[0m 15ms/step - accuracy: 0.7222 - loss: 0.5243 - val_accuracy: 0.6562 - val_loss: 0.6029\n",
            "Epoch 10/50\n",
            "\u001b[1m8/8\u001b[0m \u001b[32m━━━━━━━━━━━━━━━━━━━━\u001b[0m\u001b[37m\u001b[0m \u001b[1m0s\u001b[0m 14ms/step - accuracy: 0.7800 - loss: 0.4683 - val_accuracy: 0.6562 - val_loss: 0.5975\n",
            "Epoch 11/50\n",
            "\u001b[1m8/8\u001b[0m \u001b[32m━━━━━━━━━━━━━━━━━━━━\u001b[0m\u001b[37m\u001b[0m \u001b[1m0s\u001b[0m 14ms/step - accuracy: 0.7452 - loss: 0.4965 - val_accuracy: 0.6562 - val_loss: 0.5913\n",
            "Epoch 12/50\n",
            "\u001b[1m8/8\u001b[0m \u001b[32m━━━━━━━━━━━━━━━━━━━━\u001b[0m\u001b[37m\u001b[0m \u001b[1m0s\u001b[0m 13ms/step - accuracy: 0.7425 - loss: 0.4840 - val_accuracy: 0.6562 - val_loss: 0.5846\n",
            "Epoch 13/50\n",
            "\u001b[1m8/8\u001b[0m \u001b[32m━━━━━━━━━━━━━━━━━━━━\u001b[0m\u001b[37m\u001b[0m \u001b[1m0s\u001b[0m 13ms/step - accuracy: 0.7687 - loss: 0.4528 - val_accuracy: 0.6562 - val_loss: 0.5789\n",
            "Epoch 14/50\n",
            "\u001b[1m8/8\u001b[0m \u001b[32m━━━━━━━━━━━━━━━━━━━━\u001b[0m\u001b[37m\u001b[0m \u001b[1m0s\u001b[0m 13ms/step - accuracy: 0.7271 - loss: 0.4650 - val_accuracy: 0.6562 - val_loss: 0.5719\n",
            "Epoch 15/50\n",
            "\u001b[1m8/8\u001b[0m \u001b[32m━━━━━━━━━━━━━━━━━━━━\u001b[0m\u001b[37m\u001b[0m \u001b[1m0s\u001b[0m 12ms/step - accuracy: 0.7798 - loss: 0.4376 - val_accuracy: 0.6562 - val_loss: 0.5661\n",
            "Epoch 16/50\n",
            "\u001b[1m8/8\u001b[0m \u001b[32m━━━━━━━━━━━━━━━━━━━━\u001b[0m\u001b[37m\u001b[0m \u001b[1m0s\u001b[0m 14ms/step - accuracy: 0.7772 - loss: 0.4298 - val_accuracy: 0.6562 - val_loss: 0.5600\n",
            "Epoch 17/50\n",
            "\u001b[1m8/8\u001b[0m \u001b[32m━━━━━━━━━━━━━━━━━━━━\u001b[0m\u001b[37m\u001b[0m \u001b[1m0s\u001b[0m 18ms/step - accuracy: 0.7239 - loss: 0.4703 - val_accuracy: 0.6562 - val_loss: 0.5523\n",
            "Epoch 18/50\n",
            "\u001b[1m8/8\u001b[0m \u001b[32m━━━━━━━━━━━━━━━━━━━━\u001b[0m\u001b[37m\u001b[0m \u001b[1m0s\u001b[0m 13ms/step - accuracy: 0.7458 - loss: 0.4438 - val_accuracy: 0.6562 - val_loss: 0.5462\n",
            "Epoch 19/50\n",
            "\u001b[1m8/8\u001b[0m \u001b[32m━━━━━━━━━━━━━━━━━━━━\u001b[0m\u001b[37m\u001b[0m \u001b[1m0s\u001b[0m 13ms/step - accuracy: 0.7708 - loss: 0.4089 - val_accuracy: 0.6562 - val_loss: 0.5396\n",
            "Epoch 20/50\n",
            "\u001b[1m8/8\u001b[0m \u001b[32m━━━━━━━━━━━━━━━━━━━━\u001b[0m\u001b[37m\u001b[0m \u001b[1m0s\u001b[0m 12ms/step - accuracy: 0.7553 - loss: 0.4181 - val_accuracy: 0.6562 - val_loss: 0.5341\n",
            "Epoch 21/50\n",
            "\u001b[1m8/8\u001b[0m \u001b[32m━━━━━━━━━━━━━━━━━━━━\u001b[0m\u001b[37m\u001b[0m \u001b[1m0s\u001b[0m 12ms/step - accuracy: 0.7690 - loss: 0.4008 - val_accuracy: 0.6562 - val_loss: 0.5275\n",
            "Epoch 22/50\n",
            "\u001b[1m8/8\u001b[0m \u001b[32m━━━━━━━━━━━━━━━━━━━━\u001b[0m\u001b[37m\u001b[0m \u001b[1m0s\u001b[0m 14ms/step - accuracy: 0.6994 - loss: 0.4663 - val_accuracy: 0.6562 - val_loss: 0.5208\n",
            "Epoch 23/50\n",
            "\u001b[1m8/8\u001b[0m \u001b[32m━━━━━━━━━━━━━━━━━━━━\u001b[0m\u001b[37m\u001b[0m \u001b[1m0s\u001b[0m 12ms/step - accuracy: 0.7733 - loss: 0.3889 - val_accuracy: 0.6562 - val_loss: 0.5150\n",
            "Epoch 24/50\n",
            "\u001b[1m8/8\u001b[0m \u001b[32m━━━━━━━━━━━━━━━━━━━━\u001b[0m\u001b[37m\u001b[0m \u001b[1m0s\u001b[0m 17ms/step - accuracy: 0.7496 - loss: 0.4040 - val_accuracy: 0.6562 - val_loss: 0.5090\n",
            "Epoch 25/50\n",
            "\u001b[1m8/8\u001b[0m \u001b[32m━━━━━━━━━━━━━━━━━━━━\u001b[0m\u001b[37m\u001b[0m \u001b[1m0s\u001b[0m 12ms/step - accuracy: 0.7960 - loss: 0.3740 - val_accuracy: 0.6562 - val_loss: 0.5036\n",
            "Epoch 26/50\n",
            "\u001b[1m8/8\u001b[0m \u001b[32m━━━━━━━━━━━━━━━━━━━━\u001b[0m\u001b[37m\u001b[0m \u001b[1m0s\u001b[0m 12ms/step - accuracy: 0.7704 - loss: 0.3804 - val_accuracy: 0.6562 - val_loss: 0.4975\n",
            "Epoch 27/50\n",
            "\u001b[1m8/8\u001b[0m \u001b[32m━━━━━━━━━━━━━━━━━━━━\u001b[0m\u001b[37m\u001b[0m \u001b[1m0s\u001b[0m 12ms/step - accuracy: 0.8211 - loss: 0.3526 - val_accuracy: 0.6875 - val_loss: 0.4918\n",
            "Epoch 28/50\n",
            "\u001b[1m8/8\u001b[0m \u001b[32m━━━━━━━━━━━━━━━━━━━━\u001b[0m\u001b[37m\u001b[0m \u001b[1m0s\u001b[0m 12ms/step - accuracy: 0.7722 - loss: 0.3893 - val_accuracy: 0.6875 - val_loss: 0.4864\n",
            "Epoch 29/50\n",
            "\u001b[1m8/8\u001b[0m \u001b[32m━━━━━━━━━━━━━━━━━━━━\u001b[0m\u001b[37m\u001b[0m \u001b[1m0s\u001b[0m 12ms/step - accuracy: 0.8021 - loss: 0.3796 - val_accuracy: 0.6875 - val_loss: 0.4805\n",
            "Epoch 30/50\n",
            "\u001b[1m8/8\u001b[0m \u001b[32m━━━━━━━━━━━━━━━━━━━━\u001b[0m\u001b[37m\u001b[0m \u001b[1m0s\u001b[0m 13ms/step - accuracy: 0.7843 - loss: 0.3805 - val_accuracy: 0.6875 - val_loss: 0.4745\n",
            "Epoch 31/50\n",
            "\u001b[1m8/8\u001b[0m \u001b[32m━━━━━━━━━━━━━━━━━━━━\u001b[0m\u001b[37m\u001b[0m \u001b[1m0s\u001b[0m 11ms/step - accuracy: 0.8311 - loss: 0.3562 - val_accuracy: 0.6875 - val_loss: 0.4699\n",
            "Epoch 32/50\n",
            "\u001b[1m8/8\u001b[0m \u001b[32m━━━━━━━━━━━━━━━━━━━━\u001b[0m\u001b[37m\u001b[0m \u001b[1m0s\u001b[0m 12ms/step - accuracy: 0.8069 - loss: 0.3632 - val_accuracy: 0.7188 - val_loss: 0.4638\n",
            "Epoch 33/50\n",
            "\u001b[1m8/8\u001b[0m \u001b[32m━━━━━━━━━━━━━━━━━━━━\u001b[0m\u001b[37m\u001b[0m \u001b[1m0s\u001b[0m 12ms/step - accuracy: 0.8520 - loss: 0.3485 - val_accuracy: 0.7500 - val_loss: 0.4583\n",
            "Epoch 34/50\n",
            "\u001b[1m8/8\u001b[0m \u001b[32m━━━━━━━━━━━━━━━━━━━━\u001b[0m\u001b[37m\u001b[0m \u001b[1m0s\u001b[0m 12ms/step - accuracy: 0.7854 - loss: 0.4211 - val_accuracy: 0.8125 - val_loss: 0.4518\n",
            "Epoch 35/50\n",
            "\u001b[1m8/8\u001b[0m \u001b[32m━━━━━━━━━━━━━━━━━━━━\u001b[0m\u001b[37m\u001b[0m \u001b[1m0s\u001b[0m 13ms/step - accuracy: 0.8492 - loss: 0.3492 - val_accuracy: 0.8125 - val_loss: 0.4478\n",
            "Epoch 36/50\n",
            "\u001b[1m8/8\u001b[0m \u001b[32m━━━━━━━━━━━━━━━━━━━━\u001b[0m\u001b[37m\u001b[0m \u001b[1m0s\u001b[0m 13ms/step - accuracy: 0.8571 - loss: 0.3429 - val_accuracy: 0.8125 - val_loss: 0.4420\n",
            "Epoch 37/50\n",
            "\u001b[1m8/8\u001b[0m \u001b[32m━━━━━━━━━━━━━━━━━━━━\u001b[0m\u001b[37m\u001b[0m \u001b[1m0s\u001b[0m 12ms/step - accuracy: 0.8890 - loss: 0.3250 - val_accuracy: 0.8125 - val_loss: 0.4371\n",
            "Epoch 38/50\n",
            "\u001b[1m8/8\u001b[0m \u001b[32m━━━━━━━━━━━━━━━━━━━━\u001b[0m\u001b[37m\u001b[0m \u001b[1m0s\u001b[0m 14ms/step - accuracy: 0.8808 - loss: 0.3285 - val_accuracy: 0.8125 - val_loss: 0.4309\n",
            "Epoch 39/50\n",
            "\u001b[1m8/8\u001b[0m \u001b[32m━━━━━━━━━━━━━━━━━━━━\u001b[0m\u001b[37m\u001b[0m \u001b[1m0s\u001b[0m 12ms/step - accuracy: 0.9031 - loss: 0.2850 - val_accuracy: 0.8125 - val_loss: 0.4266\n",
            "Epoch 40/50\n",
            "\u001b[1m8/8\u001b[0m \u001b[32m━━━━━━━━━━━━━━━━━━━━\u001b[0m\u001b[37m\u001b[0m \u001b[1m0s\u001b[0m 13ms/step - accuracy: 0.9019 - loss: 0.2954 - val_accuracy: 0.8438 - val_loss: 0.4209\n",
            "Epoch 41/50\n",
            "\u001b[1m8/8\u001b[0m \u001b[32m━━━━━━━━━━━━━━━━━━━━\u001b[0m\u001b[37m\u001b[0m \u001b[1m0s\u001b[0m 14ms/step - accuracy: 0.8676 - loss: 0.3293 - val_accuracy: 0.8125 - val_loss: 0.4150\n",
            "Epoch 42/50\n",
            "\u001b[1m8/8\u001b[0m \u001b[32m━━━━━━━━━━━━━━━━━━━━\u001b[0m\u001b[37m\u001b[0m \u001b[1m0s\u001b[0m 14ms/step - accuracy: 0.8761 - loss: 0.3100 - val_accuracy: 0.8125 - val_loss: 0.4099\n",
            "Epoch 43/50\n",
            "\u001b[1m8/8\u001b[0m \u001b[32m━━━━━━━━━━━━━━━━━━━━\u001b[0m\u001b[37m\u001b[0m \u001b[1m0s\u001b[0m 13ms/step - accuracy: 0.9181 - loss: 0.2961 - val_accuracy: 0.8125 - val_loss: 0.4056\n",
            "Epoch 44/50\n",
            "\u001b[1m8/8\u001b[0m \u001b[32m━━━━━━━━━━━━━━━━━━━━\u001b[0m\u001b[37m\u001b[0m \u001b[1m0s\u001b[0m 13ms/step - accuracy: 0.9118 - loss: 0.2831 - val_accuracy: 0.8125 - val_loss: 0.4013\n",
            "Epoch 45/50\n",
            "\u001b[1m8/8\u001b[0m \u001b[32m━━━━━━━━━━━━━━━━━━━━\u001b[0m\u001b[37m\u001b[0m \u001b[1m0s\u001b[0m 12ms/step - accuracy: 0.8991 - loss: 0.2863 - val_accuracy: 0.8125 - val_loss: 0.3962\n",
            "Epoch 46/50\n",
            "\u001b[1m8/8\u001b[0m \u001b[32m━━━━━━━━━━━━━━━━━━━━\u001b[0m\u001b[37m\u001b[0m \u001b[1m0s\u001b[0m 14ms/step - accuracy: 0.9392 - loss: 0.2451 - val_accuracy: 0.8125 - val_loss: 0.3915\n",
            "Epoch 47/50\n",
            "\u001b[1m8/8\u001b[0m \u001b[32m━━━━━━━━━━━━━━━━━━━━\u001b[0m\u001b[37m\u001b[0m \u001b[1m0s\u001b[0m 13ms/step - accuracy: 0.9203 - loss: 0.2703 - val_accuracy: 0.8125 - val_loss: 0.3871\n",
            "Epoch 48/50\n",
            "\u001b[1m8/8\u001b[0m \u001b[32m━━━━━━━━━━━━━━━━━━━━\u001b[0m\u001b[37m\u001b[0m \u001b[1m0s\u001b[0m 14ms/step - accuracy: 0.9193 - loss: 0.2874 - val_accuracy: 0.8125 - val_loss: 0.3820\n",
            "Epoch 49/50\n",
            "\u001b[1m8/8\u001b[0m \u001b[32m━━━━━━━━━━━━━━━━━━━━\u001b[0m\u001b[37m\u001b[0m \u001b[1m0s\u001b[0m 13ms/step - accuracy: 0.9269 - loss: 0.2703 - val_accuracy: 0.8125 - val_loss: 0.3776\n",
            "Epoch 50/50\n",
            "\u001b[1m8/8\u001b[0m \u001b[32m━━━━━━━━━━━━━━━━━━━━\u001b[0m\u001b[37m\u001b[0m \u001b[1m0s\u001b[0m 18ms/step - accuracy: 0.9552 - loss: 0.2431 - val_accuracy: 0.8125 - val_loss: 0.3726\n"
          ]
        }
      ]
    },
    {
      "cell_type": "code",
      "source": [
        "import matplotlib.pyplot as plt\n",
        "\n",
        "# Accuracy plot\n",
        "plt.figure(figsize=(10, 4))\n",
        "plt.subplot(1, 2, 1)\n",
        "plt.plot(history.history['accuracy'], label='Train Acc')\n",
        "plt.plot(history.history['val_accuracy'], label='Val Acc')\n",
        "plt.title('Accuracy Over Epochs')\n",
        "plt.xlabel('Epoch')\n",
        "plt.ylabel('Accuracy')\n",
        "plt.legend()\n",
        "\n",
        "# Loss plot\n",
        "plt.subplot(1, 2, 2)\n",
        "plt.plot(history.history['loss'], label='Train Loss')\n",
        "plt.plot(history.history['val_loss'], label='Val Loss')\n",
        "plt.title('Loss Over Epochs')\n",
        "plt.xlabel('Epoch')\n",
        "plt.ylabel('Loss')\n",
        "plt.legend()\n",
        "\n",
        "plt.tight_layout()\n",
        "plt.show()"
      ],
      "metadata": {
        "colab": {
          "base_uri": "https://localhost:8080/",
          "height": 407
        },
        "id": "Y8n-Q5CzUhKx",
        "outputId": "37d082da-fe7e-4a2e-c634-2b01f22bff0f"
      },
      "execution_count": 101,
      "outputs": [
        {
          "output_type": "display_data",
          "data": {
            "text/plain": [
              "<Figure size 1000x400 with 2 Axes>"
            ],
            "image/png": "[encoded data removed]"
          },
          "metadata": {}
        }
      ]
    },
    {
      "cell_type": "code",
      "source": [
        "from sklearn.metrics import accuracy_score, confusion_matrix, classification_report\n",
        "import matplotlib.pyplot as plt\n",
        "import seaborn as sns\n",
        "\n",
        "# Predictions on test set (probabilities)\n",
        "y_pred_probs = model.predict(X_test)\n",
        "\n",
        "# Convert probabilities to class labels (0 or 1)\n",
        "y_pred = (y_pred_probs > 0.5).astype(int)\n",
        "\n",
        "# Accuracy\n",
        "test_accuracy = accuracy_score(y_test, y_pred)\n",
        "print(\"Test Accuracy:\", test_accuracy)\n",
        "\n",
        "# Confusion Matrix\n",
        "cm = confusion_matrix(y_test, y_pred)\n",
        "sns.heatmap(cm, annot=True, fmt='d', cmap='Blues', xticklabels=[\"No Diabetes\", \"Diabetes\"], yticklabels=[\"No Diabetes\", \"Diabetes\"])\n",
        "plt.xlabel(\"Predicted\")\n",
        "plt.ylabel(\"Actual\")\n",
        "plt.title(\"Confusion Matrix\")\n",
        "plt.show()\n",
        "\n",
        "# Classification Report\n",
        "print(classification_report(y_test, y_pred))\n"
      ],
      "metadata": {
        "colab": {
          "base_uri": "https://localhost:8080/",
          "height": 672
        },
        "id": "536HDaPqPRHi",
        "outputId": "6a5786d1-e310-414c-8be9-ffe3083824c2"
      },
      "execution_count": 102,
      "outputs": [
        {
          "output_type": "stream",
          "name": "stdout",
          "text": [
            "\u001b[1m2/2\u001b[0m \u001b[32m━━━━━━━━━━━━━━━━━━━━\u001b[0m\u001b[37m\u001b[0m \u001b[1m0s\u001b[0m 46ms/step\n",
            "Test Accuracy: 0.9487179487179487\n"
          ]
        },
        {
          "output_type": "display_data",
          "data": {
            "text/plain": [
              "<Figure size 640x480 with 2 Axes>"
            ],
            "image/png": "[encoded data removed]"
          },
          "metadata": {}
        },
        {
          "output_type": "stream",
          "name": "stdout",
          "text": [
            "              precision    recall  f1-score   support\n",
            "\n",
            "           0       1.00      0.78      0.88         9\n",
            "           1       0.94      1.00      0.97        30\n",
            "\n",
            "    accuracy                           0.95        39\n",
            "   macro avg       0.97      0.89      0.92        39\n",
            "weighted avg       0.95      0.95      0.95        39\n",
            "\n"
          ]
        }
      ]
    },
    {
      "cell_type": "code",
      "source": [
        "print(df.columns.tolist())"
      ],
      "metadata": {
        "colab": {
          "base_uri": "https://localhost:8080/"
        },
        "id": "Kes21tDVVan8",
        "outputId": "1b901b73-cb7c-4afd-a38f-261bb6265896"
      },
      "execution_count": 103,
      "outputs": [
        {
          "output_type": "stream",
          "name": "stdout",
          "text": [
            "['Column 1', 'Age', 'Weight(kg)', 'Height(cm)', 'Average hours of sleep per night', 'Height(m)', 'BMI', 'AgeGroup', 'Gender_Male', 'Gender_male', 'Physical Activity Level_Low (Little to no regular physical activity)', 'Physical Activity Level_Moderate – Some physical activity 1–3 days a week (e.g., walking, light exercise)', 'How would you describe your typical diet?_Moderately Healthy (Mixed diet with occasional healthy meals and some fast food or processed items)', 'How would you describe your typical diet?_Unhealthy (Mostly high-sugar, high-fat, or processed foods with few fruits/vegetables)', 'Do you have a family history of diabetes?_Yes', 'Have you been diagnosed with hypertension(high blood pressure)?_Yes', 'Have you been diagnosed with hypertension(high blood pressure)?_yes', 'Have you been diagnosed with heart disease?_Yes', 'Have you been diagnosed with heart disease?_yes', 'Smoking Habits?_3-6 times per week', 'Smoking Habits?_I do not smoke', 'Smoking Habits?_Occasionally (Less than once a week)', 'Smoking Habits?_Used to smoke but quit', 'Alcohol Consumption_None (I do not drink alcohol)', 'Alcohol Consumption_Occasional (e.g., social drinking, 1–2 times per month)', 'Do you usually eat your meals at regular times each day?_No, meal times vary', 'Do you usually eat your meals at regular times each day?_Yes, mostly at the same time', 'How often do you feel stressed or emotionally overwhelmed in a typical week?_Often', 'How often do you feel stressed or emotionally overwhelmed in a typical week?_Rarely', 'How often do you feel stressed or emotionally overwhelmed in a typical week?_Sometimes', 'Diabetes_Risk']\n"
          ]
        }
      ]
    },
    {
      "cell_type": "code",
      "source": [
        "df.head()"
      ],
      "metadata": {
        "colab": {
          "base_uri": "https://localhost:8080/",
          "height": 585
        },
        "collapsed": true,
        "id": "jwOOd-uHks1l",
        "outputId": "fd9391f0-86c6-4491-b9dc-355aa7082fc7"
      },
      "execution_count": 104,
      "outputs": [
        {
          "output_type": "execute_result",
          "data": {
            "text/plain": [
              "             Column 1       Age  Weight(kg)  Height(cm)  \\\n",
              "0  7/12/2025 20:42:04 -0.047012   -1.116834   -0.834818   \n",
              "1  7/12/2025 21:09:42 -0.047012   -1.411633    0.011007   \n",
              "2  7/12/2025 21:13:29  0.658169    0.455426   -0.200449   \n",
              "3  7/12/2025 21:14:58  1.363349   -0.723769   -0.834818   \n",
              "4  7/12/2025 21:25:54  0.658169   -1.116834   -1.680642   \n",
              "\n",
              "   Average hours of sleep per night  Height(m)       BMI  AgeGroup  \\\n",
              "0                         -0.041419       1.57 -0.870942         0   \n",
              "1                          0.383667       1.65 -2.001633         0   \n",
              "2                         -0.466504       1.63  0.901164         0   \n",
              "3                         -0.466504       1.57 -0.247787         0   \n",
              "4                         -0.041419       1.49 -0.046393         0   \n",
              "\n",
              "   Gender_Male  Gender_male  ...  \\\n",
              "0        False        False  ...   \n",
              "1        False        False  ...   \n",
              "2        False        False  ...   \n",
              "3        False        False  ...   \n",
              "4        False        False  ...   \n",
              "\n",
              "   Smoking Habits?_Occasionally (Less than once a week)  \\\n",
              "0                                              False      \n",
              "1                                              False      \n",
              "2                                              False      \n",
              "3                                              False      \n",
              "4                                              False      \n",
              "\n",
              "   Smoking Habits?_Used to smoke but quit  \\\n",
              "0                                   False   \n",
              "1                                   False   \n",
              "2                                   False   \n",
              "3                                   False   \n",
              "4                                   False   \n",
              "\n",
              "   Alcohol Consumption_None (I do not drink alcohol)  \\\n",
              "0                                               True   \n",
              "1                                               True   \n",
              "2                                               True   \n",
              "3                                               True   \n",
              "4                                               True   \n",
              "\n",
              "   Alcohol Consumption_Occasional (e.g., social drinking, 1–2 times per month)  \\\n",
              "0                                              False                             \n",
              "1                                              False                             \n",
              "2                                              False                             \n",
              "3                                              False                             \n",
              "4                                              False                             \n",
              "\n",
              "   Do you usually eat your meals at regular times each day?_No, meal times vary  \\\n",
              "0                                              False                              \n",
              "1                                               True                              \n",
              "2                                               True                              \n",
              "3                                               True                              \n",
              "4                                              False                              \n",
              "\n",
              "   Do you usually eat your meals at regular times each day?_Yes, mostly at the same time  \\\n",
              "0                                              False                                       \n",
              "1                                              False                                       \n",
              "2                                              False                                       \n",
              "3                                              False                                       \n",
              "4                                               True                                       \n",
              "\n",
              "   How often do you feel stressed or emotionally overwhelmed in a typical week?_Often  \\\n",
              "0                                              False                                    \n",
              "1                                              False                                    \n",
              "2                                               True                                    \n",
              "3                                              False                                    \n",
              "4                                              False                                    \n",
              "\n",
              "   How often do you feel stressed or emotionally overwhelmed in a typical week?_Rarely  \\\n",
              "0                                              False                                     \n",
              "1                                              False                                     \n",
              "2                                              False                                     \n",
              "3                                              False                                     \n",
              "4                                              False                                     \n",
              "\n",
              "   How often do you feel stressed or emotionally overwhelmed in a typical week?_Sometimes  \\\n",
              "0                                               True                                        \n",
              "1                                               True                                        \n",
              "2                                              False                                        \n",
              "3                                               True                                        \n",
              "4                                               True                                        \n",
              "\n",
              "   Diabetes_Risk  \n",
              "0              1  \n",
              "1              0  \n",
              "2              1  \n",
              "3              1  \n",
              "4              0  \n",
              "\n",
              "[5 rows x 31 columns]"
            ],
            "text/html": [
              "\n",
              "  <div id=\"df-06541cae-d0ee-441e-a84f-7a6f21287ee5\" class=\"colab-df-container\">\n",
              "    <div>\n",
              "<style scoped>\n",
              "    .dataframe tbody tr th:only-of-type {\n",
              "        vertical-align: middle;\n",
              "    }\n",
              "\n",
              "    .dataframe tbody tr th {\n",
              "        vertical-align: top;\n",
              "    }\n",
              "\n",
              "    .dataframe thead th {\n",
              "        text-align: right;\n",
              "    }\n",
              "</style>\n",
              "<table border=\"1\" class=\"dataframe\">\n",
              "  <thead>\n",
              "    <tr style=\"text-align: right;\">\n",
              "      <th></th>\n",
              "      <th>Column 1</th>\n",
              "      <th>Age</th>\n",
              "      <th>Weight(kg)</th>\n",
              "      <th>Height(cm)</th>\n",
              "      <th>Average hours of sleep per night</th>\n",
              "      <th>Height(m)</th>\n",
              "      <th>BMI</th>\n",
              "      <th>AgeGroup</th>\n",
              "      <th>Gender_Male</th>\n",
              "      <th>Gender_male</th>\n",
              "      <th>...</th>\n",
              "      <th>Smoking Habits?_Occasionally (Less than once a week)</th>\n",
              "      <th>Smoking Habits?_Used to smoke but quit</th>\n",
              "      <th>Alcohol Consumption_None (I do not drink alcohol)</th>\n",
              "      <th>Alcohol Consumption_Occasional (e.g., social drinking, 1–2 times per month)</th>\n",
              "      <th>Do you usually eat your meals at regular times each day?_No, meal times vary</th>\n",
              "      <th>Do you usually eat your meals at regular times each day?_Yes, mostly at the same time</th>\n",
              "      <th>How often do you feel stressed or emotionally overwhelmed in a typical week?_Often</th>\n",
              "      <th>How often do you feel stressed or emotionally overwhelmed in a typical week?_Rarely</th>\n",
              "      <th>How often do you feel stressed or emotionally overwhelmed in a typical week?_Sometimes</th>\n",
              "      <th>Diabetes_Risk</th>\n",
              "    </tr>\n",
              "  </thead>\n",
              "  <tbody>\n",
              "    <tr>\n",
              "      <th>0</th>\n",
              "      <td>7/12/2025 20:42:04</td>\n",
              "      <td>-0.047012</td>\n",
              "      <td>-1.116834</td>\n",
              "      <td>-0.834818</td>\n",
              "      <td>-0.041419</td>\n",
              "      <td>1.57</td>\n",
              "      <td>-0.870942</td>\n",
              "      <td>0</td>\n",
              "      <td>False</td>\n",
              "      <td>False</td>\n",
              "      <td>...</td>\n",
              "      <td>False</td>\n",
              "      <td>False</td>\n",
              "      <td>True</td>\n",
              "      <td>False</td>\n",
              "      <td>False</td>\n",
              "      <td>False</td>\n",
              "      <td>False</td>\n",
              "      <td>False</td>\n",
              "      <td>True</td>\n",
              "      <td>1</td>\n",
              "    </tr>\n",
              "    <tr>\n",
              "      <th>1</th>\n",
              "      <td>7/12/2025 21:09:42</td>\n",
              "      <td>-0.047012</td>\n",
              "      <td>-1.411633</td>\n",
              "      <td>0.011007</td>\n",
              "      <td>0.383667</td>\n",
              "      <td>1.65</td>\n",
              "      <td>-2.001633</td>\n",
              "      <td>0</td>\n",
              "      <td>False</td>\n",
              "      <td>False</td>\n",
              "      <td>...</td>\n",
              "      <td>False</td>\n",
              "      <td>False</td>\n",
              "      <td>True</td>\n",
              "      <td>False</td>\n",
              "      <td>True</td>\n",
              "      <td>False</td>\n",
              "      <td>False</td>\n",
              "      <td>False</td>\n",
              "      <td>True</td>\n",
              "      <td>0</td>\n",
              "    </tr>\n",
              "    <tr>\n",
              "      <th>2</th>\n",
              "      <td>7/12/2025 21:13:29</td>\n",
              "      <td>0.658169</td>\n",
              "      <td>0.455426</td>\n",
              "      <td>-0.200449</td>\n",
              "      <td>-0.466504</td>\n",
              "      <td>1.63</td>\n",
              "      <td>0.901164</td>\n",
              "      <td>0</td>\n",
              "      <td>False</td>\n",
              "      <td>False</td>\n",
              "      <td>...</td>\n",
              "      <td>False</td>\n",
              "      <td>False</td>\n",
              "      <td>True</td>\n",
              "      <td>False</td>\n",
              "      <td>True</td>\n",
              "      <td>False</td>\n",
              "      <td>True</td>\n",
              "      <td>False</td>\n",
              "      <td>False</td>\n",
              "      <td>1</td>\n",
              "    </tr>\n",
              "    <tr>\n",
              "      <th>3</th>\n",
              "      <td>7/12/2025 21:14:58</td>\n",
              "      <td>1.363349</td>\n",
              "      <td>-0.723769</td>\n",
              "      <td>-0.834818</td>\n",
              "      <td>-0.466504</td>\n",
              "      <td>1.57</td>\n",
              "      <td>-0.247787</td>\n",
              "      <td>0</td>\n",
              "      <td>False</td>\n",
              "      <td>False</td>\n",
              "      <td>...</td>\n",
              "      <td>False</td>\n",
              "      <td>False</td>\n",
              "      <td>True</td>\n",
              "      <td>False</td>\n",
              "      <td>True</td>\n",
              "      <td>False</td>\n",
              "      <td>False</td>\n",
              "      <td>False</td>\n",
              "      <td>True</td>\n",
              "      <td>1</td>\n",
              "    </tr>\n",
              "    <tr>\n",
              "      <th>4</th>\n",
              "      <td>7/12/2025 21:25:54</td>\n",
              "      <td>0.658169</td>\n",
              "      <td>-1.116834</td>\n",
              "      <td>-1.680642</td>\n",
              "      <td>-0.041419</td>\n",
              "      <td>1.49</td>\n",
              "      <td>-0.046393</td>\n",
              "      <td>0</td>\n",
              "      <td>False</td>\n",
              "      <td>False</td>\n",
              "      <td>...</td>\n",
              "      <td>False</td>\n",
              "      <td>False</td>\n",
              "      <td>True</td>\n",
              "      <td>False</td>\n",
              "      <td>False</td>\n",
              "      <td>True</td>\n",
              "      <td>False</td>\n",
              "      <td>False</td>\n",
              "      <td>True</td>\n",
              "      <td>0</td>\n",
              "    </tr>\n",
              "  </tbody>\n",
              "</table>\n",
              "<p>5 rows × 31 columns</p>\n",
              "</div>\n",
              "    <div class=\"colab-df-buttons\">\n",
              "\n",
              "  <div class=\"colab-df-container\">\n",
              "    <button class=\"colab-df-convert\" onclick=\"convertToInteractive('df-06541cae-d0ee-441e-a84f-7a6f21287ee5')\"\n",
              "            title=\"Convert this dataframe to an interactive table.\"\n",
              "            style=\"display:none;\">\n",
              "\n",
              "  <svg xmlns=\"http://www.w3.org/2000/svg\" height=\"24px\" viewBox=\"0 -960 960 960\">\n",
              "    <path d=\"M120-120v-720h720v720H120Zm60-500h600v-160H180v160Zm220 220h160v-160H400v160Zm0 220h160v-160H400v160ZM180-400h160v-160H180v160Zm440 0h160v-160H620v160ZM180-180h160v-160H180v160Zm440 0h160v-160H620v160Z\"/>\n",
              "  </svg>\n",
              "    </button>\n",
              "\n",
              "  <style>\n",
              "    .colab-df-container {\n",
              "      display:flex;\n",
              "      gap: 12px;\n",
              "    }\n",
              "\n",
              "    .colab-df-convert {\n",
              "      background-color: #E8F0FE;\n",
              "      border: none;\n",
              "      border-radius: 50%;\n",
              "      cursor: pointer;\n",
              "      display: none;\n",
              "      fill: #1967D2;\n",
              "      height: 32px;\n",
              "      padding: 0 0 0 0;\n",
              "      width: 32px;\n",
              "    }\n",
              "\n",
              "    .colab-df-convert:hover {\n",
              "      background-color: #E2EBFA;\n",
              "      box-shadow: 0px 1px 2px rgba(60, 64, 67, 0.3), 0px 1px 3px 1px rgba(60, 64, 67, 0.15);\n",
              "      fill: #174EA6;\n",
              "    }\n",
              "\n",
              "    .colab-df-buttons div {\n",
              "      margin-bottom: 4px;\n",
              "    }\n",
              "\n",
              "    [theme=dark] .colab-df-convert {\n",
              "      background-color: #3B4455;\n",
              "      fill: #D2E3FC;\n",
              "    }\n",
              "\n",
              "    [theme=dark] .colab-df-convert:hover {\n",
              "      background-color: #434B5C;\n",
              "      box-shadow: 0px 1px 3px 1px rgba(0, 0, 0, 0.15);\n",
              "      filter: drop-shadow(0px 1px 2px rgba(0, 0, 0, 0.3));\n",
              "      fill: #FFFFFF;\n",
              "    }\n",
              "  </style>\n",
              "\n",
              "    <script>\n",
              "      const buttonEl =\n",
              "        document.querySelector('#df-06541cae-d0ee-441e-a84f-7a6f21287ee5 button.colab-df-convert');\n",
              "      buttonEl.style.display =\n",
              "        google.colab.kernel.accessAllowed ? 'block' : 'none';\n",
              "\n",
              "      async function convertToInteractive(key) {\n",
              "        const element = document.querySelector('#df-06541cae-d0ee-441e-a84f-7a6f21287ee5');\n",
              "        const dataTable =\n",
              "          await google.colab.kernel.invokeFunction('convertToInteractive',\n",
              "                                                    [key], {});\n",
              "        if (!dataTable) return;\n",
              "\n",
              "        const docLinkHtml = 'Like what you see? Visit the ' +\n",
              "          '<a target=\"_blank\" href=https://colab.research.google.com/notebooks/data_table.ipynb>data table notebook</a>'\n",
              "          + ' to learn more about interactive tables.';\n",
              "        element.innerHTML = '';\n",
              "        dataTable['output_type'] = 'display_data';\n",
              "        await google.colab.output.renderOutput(dataTable, element);\n",
              "        const docLink = document.createElement('div');\n",
              "        docLink.innerHTML = docLinkHtml;\n",
              "        element.appendChild(docLink);\n",
              "      }\n",
              "    </script>\n",
              "  </div>\n",
              "\n",
              "\n",
              "    <div id=\"df-5031da57-77d0-49ee-9442-de936ead4b16\">\n",
              "      <button class=\"colab-df-quickchart\" onclick=\"quickchart('df-5031da57-77d0-49ee-9442-de936ead4b16')\"\n",
              "                title=\"Suggest charts\"\n",
              "                style=\"display:none;\">\n",
              "\n",
              "<svg xmlns=\"http://www.w3.org/2000/svg\" height=\"24px\"viewBox=\"0 0 24 24\"\n",
              "     width=\"24px\">\n",
              "    <g>\n",
              "        <path d=\"M19 3H5c-1.1 0-2 .9-2 2v14c0 1.1.9 2 2 2h14c1.1 0 2-.9 2-2V5c0-1.1-.9-2-2-2zM9 17H7v-7h2v7zm4 0h-2V7h2v10zm4 0h-2v-4h2v4z\"/>\n",
              "    </g>\n",
              "</svg>\n",
              "      </button>\n",
              "\n",
              "<style>\n",
              "  .colab-df-quickchart {\n",
              "      --bg-color: #E8F0FE;\n",
              "      --fill-color: #1967D2;\n",
              "      --hover-bg-color: #E2EBFA;\n",
              "      --hover-fill-color: #174EA6;\n",
              "      --disabled-fill-color: #AAA;\n",
              "      --disabled-bg-color: #DDD;\n",
              "  }\n",
              "\n",
              "  [theme=dark] .colab-df-quickchart {\n",
              "      --bg-color: #3B4455;\n",
              "      --fill-color: #D2E3FC;\n",
              "      --hover-bg-color: #434B5C;\n",
              "      --hover-fill-color: #FFFFFF;\n",
              "      --disabled-bg-color: #3B4455;\n",
              "      --disabled-fill-color: #666;\n",
              "  }\n",
              "\n",
              "  .colab-df-quickchart {\n",
              "    background-color: var(--bg-color);\n",
              "    border: none;\n",
              "    border-radius: 50%;\n",
              "    cursor: pointer;\n",
              "    display: none;\n",
              "    fill: var(--fill-color);\n",
              "    height: 32px;\n",
              "    padding: 0;\n",
              "    width: 32px;\n",
              "  }\n",
              "\n",
              "  .colab-df-quickchart:hover {\n",
              "    background-color: var(--hover-bg-color);\n",
              "    box-shadow: 0 1px 2px rgba(60, 64, 67, 0.3), 0 1px 3px 1px rgba(60, 64, 67, 0.15);\n",
              "    fill: var(--button-hover-fill-color);\n",
              "  }\n",
              "\n",
              "  .colab-df-quickchart-complete:disabled,\n",
              "  .colab-df-quickchart-complete:disabled:hover {\n",
              "    background-color: var(--disabled-bg-color);\n",
              "    fill: var(--disabled-fill-color);\n",
              "    box-shadow: none;\n",
              "  }\n",
              "\n",
              "  .colab-df-spinner {\n",
              "    border: 2px solid var(--fill-color);\n",
              "    border-color: transparent;\n",
              "    border-bottom-color: var(--fill-color);\n",
              "    animation:\n",
              "      spin 1s steps(1) infinite;\n",
              "  }\n",
              "\n",
              "  @keyframes spin {\n",
              "    0% {\n",
              "      border-color: transparent;\n",
              "      border-bottom-color: var(--fill-color);\n",
              "      border-left-color: var(--fill-color);\n",
              "    }\n",
              "    20% {\n",
              "      border-color: transparent;\n",
              "      border-left-color: var(--fill-color);\n",
              "      border-top-color: var(--fill-color);\n",
              "    }\n",
              "    30% {\n",
              "      border-color: transparent;\n",
              "      border-left-color: var(--fill-color);\n",
              "      border-top-color: var(--fill-color);\n",
              "      border-right-color: var(--fill-color);\n",
              "    }\n",
              "    40% {\n",
              "      border-color: transparent;\n",
              "      border-right-color: var(--fill-color);\n",
              "      border-top-color: var(--fill-color);\n",
              "    }\n",
              "    60% {\n",
              "      border-color: transparent;\n",
              "      border-right-color: var(--fill-color);\n",
              "    }\n",
              "    80% {\n",
              "      border-color: transparent;\n",
              "      border-right-color: var(--fill-color);\n",
              "      border-bottom-color: var(--fill-color);\n",
              "    }\n",
              "    90% {\n",
              "      border-color: transparent;\n",
              "      border-bottom-color: var(--fill-color);\n",
              "    }\n",
              "  }\n",
              "</style>\n",
              "\n",
              "      <script>\n",
              "        async function quickchart(key) {\n",
              "          const quickchartButtonEl =\n",
              "            document.querySelector('#' + key + ' button');\n",
              "          quickchartButtonEl.disabled = true;  // To prevent multiple clicks.\n",
              "          quickchartButtonEl.classList.add('colab-df-spinner');\n",
              "          try {\n",
              "            const charts = await google.colab.kernel.invokeFunction(\n",
              "                'suggestCharts', [key], {});\n",
              "          } catch (error) {\n",
              "            console.error('Error during call to suggestCharts:', error);\n",
              "          }\n",
              "          quickchartButtonEl.classList.remove('colab-df-spinner');\n",
              "          quickchartButtonEl.classList.add('colab-df-quickchart-complete');\n",
              "        }\n",
              "        (() => {\n",
              "          let quickchartButtonEl =\n",
              "            document.querySelector('#df-5031da57-77d0-49ee-9442-de936ead4b16 button');\n",
              "          quickchartButtonEl.style.display =\n",
              "            google.colab.kernel.accessAllowed ? 'block' : 'none';\n",
              "        })();\n",
              "      </script>\n",
              "    </div>\n",
              "\n",
              "    </div>\n",
              "  </div>\n"
            ],
            "application/vnd.google.colaboratory.intrinsic+json": {
              "type": "dataframe",
              "variable_name": "df"
            }
          },
          "metadata": {},
          "execution_count": 104
        }
      ]
    },
    {
      "cell_type": "code",
      "source": [
        "from sklearn.metrics import roc_curve, auc\n",
        "\n",
        "fpr, tpr, thresholds = roc_curve(y_test, y_pred_probs)\n",
        "roc_auc = auc(fpr, tpr)\n",
        "\n",
        "plt.figure()\n",
        "plt.plot(fpr, tpr, color='darkorange', lw=2, label='AUC = %0.2f' % roc_auc)\n",
        "plt.plot([0, 1], [0, 1], color='navy', lw=2, linestyle='--')\n",
        "plt.title('Receiver Operating Characteristic (ROC)')\n",
        "plt.xlabel('False Positive Rate')\n",
        "plt.ylabel('True Positive Rate')\n",
        "plt.legend(loc='lower right')\n",
        "plt.show()\n",
        "\n",
        "print(\"AUC Score:\", roc_auc)"
      ],
      "metadata": {
        "colab": {
          "base_uri": "https://localhost:8080/",
          "height": 490
        },
        "id": "dzpak5Z1PbMn",
        "outputId": "b0fc29a5-e54c-45b0-a9ab-94bed06ab469"
      },
      "execution_count": 105,
      "outputs": [
        {
          "output_type": "display_data",
          "data": {
            "text/plain": [
              "<Figure size 640x480 with 1 Axes>"
            ],
            "image/png": "[encoded data removed]"
          },
          "metadata": {}
        },
        {
          "output_type": "stream",
          "name": "stdout",
          "text": [
            "AUC Score: 1.0\n"
          ]
        }
      ]
    },
    {
      "cell_type": "code",
      "source": [
        "import pandas as pd\n",
        "from sklearn.model_selection import train_test_split\n",
        "from sklearn.pipeline import Pipeline\n",
        "from sklearn.preprocessing import StandardScaler\n",
        "from sklearn.compose import ColumnTransformer\n",
        "from sklearn.impute import SimpleImputer\n",
        "from sklearn.ensemble import RandomForestClassifier\n",
        "import joblib\n",
        "\n",
        "# -------------------------------\n",
        "# 1. Define features properly\n",
        "# -------------------------------\n",
        "numeric_features = [\n",
        "    'Age', 'Weight(kg)', 'Height(cm)', 'Height(m)', 'BMI', 'Average hours of sleep per night'\n",
        "]\n",
        "\n",
        "# all the one-hot style categorical features (exclude target + numeric + junk col)\n",
        "categorical_features = [col for col in df.columns\n",
        "                        if col not in numeric_features + ['Diabetes_Risk', 'Column 1']]\n",
        "\n",
        "all_features = numeric_features + categorical_features\n",
        "\n",
        "# -------------------------------\n",
        "# 2. Separate X and y\n",
        "# -------------------------------\n",
        "X = df[all_features]          # <-- still a DataFrame\n",
        "y = df['Diabetes_Risk']\n",
        "\n",
        "# Train-test split (keeps DataFrame)\n",
        "X_train, X_test, y_train, y_test = train_test_split(X, y, test_size=0.2, random_state=42)\n",
        "\n",
        "# -------------------------------\n",
        "# 3. Preprocessing\n",
        "# -------------------------------\n",
        "numeric_transformer = Pipeline(steps=[\n",
        "    (\"imputer\", SimpleImputer(strategy=\"median\")),\n",
        "    (\"scaler\", StandardScaler())\n",
        "])\n",
        "\n",
        "# categorical features are already dummy (0/1), so just impute missing\n",
        "categorical_transformer = Pipeline(steps=[\n",
        "    (\"imputer\", SimpleImputer(strategy=\"most_frequent\"))\n",
        "])\n",
        "\n",
        "preprocessor = ColumnTransformer(\n",
        "    transformers=[\n",
        "        (\"num\", numeric_transformer, numeric_features),\n",
        "        (\"cat\", categorical_transformer, categorical_features)\n",
        "    ],\n",
        "    remainder=\"drop\"   # ignore other columns if any\n",
        ")\n",
        "\n",
        "# -------------------------------\n",
        "# 4. Final model pipeline\n",
        "# -------------------------------\n",
        "model = Pipeline(steps=[\n",
        "    (\"preprocessor\", preprocessor),\n",
        "    (\"classifier\", RandomForestClassifier(random_state=42))\n",
        "])\n",
        "\n",
        "# -------------------------------\n",
        "# 5. Train model\n",
        "# -------------------------------\n",
        "model.fit(X_train, y_train)\n",
        "\n",
        "# -------------------------------\n",
        "# 6. Save pipeline\n",
        "# -------------------------------\n",
        "joblib.dump(model, 'full_preprocessing_pipeline.pkl')\n",
        "print(\"Pipeline trained and saved successfully!\")\n"
      ],
      "metadata": {
        "colab": {
          "base_uri": "https://localhost:8080/"
        },
        "id": "VNCxnQhghVHs",
        "outputId": "97e0bee5-00f6-4892-d14a-02bed8df109e"
      },
      "execution_count": 106,
      "outputs": [
        {
          "output_type": "stream",
          "name": "stdout",
          "text": [
            "Pipeline trained and saved successfully!\n"
          ]
        }
      ]
    },
    {
      "cell_type": "code",
      "source": [
        "expected_cols = model.named_steps[\"preprocessor\"].get_feature_names_out()\n",
        "print(expected_cols)\n"
      ],
      "metadata": {
        "colab": {
          "base_uri": "https://localhost:8080/"
        },
        "id": "Cb1G0X9VmbfU",
        "outputId": "627df35a-69f7-4afe-97fa-06c3b0701fbf"
      },
      "execution_count": 45,
      "outputs": [
        {
          "output_type": "stream",
          "name": "stdout",
          "text": [
            "['num__Age' 'num__Weight(kg)' 'num__Height(cm)' 'num__Height(m)'\n",
            " 'num__BMI' 'num__Average hours of sleep per night' 'cat__AgeGroup'\n",
            " 'cat__Gender_Male' 'cat__Gender_male'\n",
            " 'cat__Physical Activity Level_Low (Little to no regular physical activity)'\n",
            " 'cat__Physical Activity Level_Moderate – Some physical activity 1–3 days a week (e.g., walking, light exercise)'\n",
            " 'cat__How would you describe your typical diet?_Moderately Healthy (Mixed diet with occasional healthy meals and some fast food or processed items)'\n",
            " 'cat__How would you describe your typical diet?_Unhealthy (Mostly high-sugar, high-fat, or processed foods with few fruits/vegetables)'\n",
            " 'cat__Do you have a family history of diabetes?_Yes'\n",
            " 'cat__Have you been diagnosed with hypertension(high blood pressure)?_Yes'\n",
            " 'cat__Have you been diagnosed with hypertension(high blood pressure)?_yes'\n",
            " 'cat__Have you been diagnosed with heart disease?_Yes'\n",
            " 'cat__Have you been diagnosed with heart disease?_yes'\n",
            " 'cat__Smoking Habits?_3-6 times per week'\n",
            " 'cat__Smoking Habits?_I do not smoke'\n",
            " 'cat__Smoking Habits?_Occasionally (Less than once a week)'\n",
            " 'cat__Smoking Habits?_Used to smoke but quit'\n",
            " 'cat__Alcohol Consumption_None (I do not drink alcohol)'\n",
            " 'cat__Alcohol Consumption_Occasional (e.g., social drinking, 1–2 times per month)'\n",
            " 'cat__Do you usually eat your meals at regular times each day?_No, meal times vary'\n",
            " 'cat__Do you usually eat your meals at regular times each day?_Yes, mostly at the same time'\n",
            " 'cat__How often do you feel stressed or emotionally overwhelmed in a typical week?_Often'\n",
            " 'cat__How often do you feel stressed or emotionally overwhelmed in a typical week?_Rarely'\n",
            " 'cat__How often do you feel stressed or emotionally overwhelmed in a typical week?_Sometimes']\n"
          ]
        }
      ]
    },
    {
      "cell_type": "code",
      "source": [
        "import joblib\n",
        "import pandas as pd\n",
        "\n",
        "# Load trained model pipeline\n",
        "model = joblib.load(\"full_preprocessing_pipeline.pkl\")\n",
        "\n",
        "# -----------------------------------\n",
        "# Collect user inputs\n",
        "# -----------------------------------\n",
        "print(\"Please enter the following details:\")\n",
        "\n",
        "age = int(input(\"Age (years): \"))\n",
        "weight = float(input(\"Weight (kg): \"))\n",
        "height_cm = float(input(\"Height (cm): \"))\n",
        "height_m = height_cm / 100\n",
        "bmi = weight / (height_m ** 2)\n",
        "sleep_hours = int(input(\"Average hours of sleep per night: \"))\n",
        "\n",
        "print(\"\\nGender Options: Male / Female\")\n",
        "gender = input(\"Gender: \")\n",
        "\n",
        "print(\"\\nPhysical Activity Options:\")\n",
        "print(\"1. Low (Little to no regular physical activity)\")\n",
        "print(\"2. Moderate – Some physical activity 1–3 days a week (e.g., walking, light exercise)\")\n",
        "print(\"3. High – Regular physical activity 4+ days a week (e.g., gym, running, sports)\")\n",
        "activity = input(\"Physical Activity Level: \")\n",
        "\n",
        "print(\"\\nDiet Options:\")\n",
        "print(\"1. Healthy (Balanced diet with mix of carbs, proteins, vegetables, limited sugar and processed foods)\")\n",
        "print(\"2. Moderately Healthy (Mixed diet with occasional healthy meals and some fast food or processed items)\")\n",
        "print(\"3. Unhealthy (Mostly high-sugar, high-fat, or processed foods with few fruits/vegetables)\")\n",
        "diet = input(\"Typical Diet: \")\n",
        "\n",
        "print(\"\\nSmoking Habits:\")\n",
        "print(\"1. I do not smoke\")\n",
        "print(\"2. Used to smoke but quit\")\n",
        "print(\"3. Occasionally (Less than once a week)\")\n",
        "print(\"4. 1-2 times per week\")\n",
        "print(\"5. 3-6 times per week\")\n",
        "print(\"6. Daily(1-5 times per day)\")\n",
        "smoking = input(\"Smoking Habits: \")\n",
        "\n",
        "print(\"\\nAlcohol consumption:\")\n",
        "print(\"1. None (I do not drink alcohol)\")\n",
        "print(\"2. Occasional (e.g., social drinking, 1–2 times per month)\")\n",
        "print(\"3. Moderate (e.g., 1–2 times per week)\")\n",
        "print(\"4. Frequent (3 or more times per week)\")\n",
        "alcohol = input(\"Alcohol Consumption: \")\n",
        "\n",
        "print(\"\\n meals at regular times each day:\")\n",
        "print(\"1. Yes, mostly at the same time\")\n",
        "print(\"2. No, meal times vary\")\n",
        "print(\"3. I often skip meals\")\n",
        "meal_regular = input(\"Do you usually eat your meals at regular times each day: \")\n",
        "\n",
        "print(\"\\nStress level:\")\n",
        "print(\"1. Rarely\")\n",
        "print(\"2. Sometimes\")\n",
        "print(\"3. Often\")\n",
        "print(\"4. Almost every day\")\n",
        "stress = input(\"How often do you feel stressed or emotionally overwhelmed in a typical week: \")\n",
        "\n",
        "\n",
        "family_history = input(\"Do you have a family history of diabetes? (Yes/No): \")\n",
        "hypertension = input(\"Diagnosed with hypertension (high blood pressure)? (Yes/No): \")\n",
        "heart_disease = input(\"Diagnosed with heart disease? (Yes/No): \")\n",
        "#smoking = input(\"Smoking Habits? (Yes/No): \")\n",
        "#alcohol = input(\"Alcohol Consumption (Never/Occasionally/Frequently): \")\n",
        "#meal_regular = input(\"Do you usually eat meals at regular times? (Yes/No): \")\n",
        "#stress = input(\"How often do you feel stressed? (Rarely/Sometimes/Often): \")\n",
        "\n",
        "# Age group (optional - can be derived from Age, but you can also ask directly)\n",
        "if age < 20:\n",
        "    age_group = \"<20\"\n",
        "elif 20 <= age <= 29:\n",
        "    age_group = \"20-29\"\n",
        "elif 30 <= age <= 39:\n",
        "    age_group = \"30-39\"\n",
        "elif 40 <= age <= 49:\n",
        "    age_group = \"40-49\"\n",
        "elif 50 <= age <= 59:\n",
        "    age_group = \"50-59\"\n",
        "else:\n",
        "    age_group = \"60+\""
      ],
      "metadata": {
        "colab": {
          "base_uri": "https://localhost:8080/"
        },
        "id": "4ho1_0UDiMzv",
        "outputId": "4ca4a434-d403-4b2c-ed35-478100307f6e"
      },
      "execution_count": 46,
      "outputs": [
        {
          "name": "stdout",
          "output_type": "stream",
          "text": [
            "Please enter the following details:\n",
            "Age (years): 25\n",
            "Weight (kg): 45\n",
            "Height (cm): 145\n",
            "Average hours of sleep per night: 7\n",
            "\n",
            "Gender Options: Male / Female\n",
            "Gender: Male\n",
            "\n",
            "Physical Activity Options:\n",
            "1. Low (Little to no regular physical activity)\n",
            "2. Moderate – Some physical activity 1–3 days a week (e.g., walking, light exercise)\n",
            "3. High – Regular physical activity 4+ days a week (e.g., gym, running, sports)\n",
            "Physical Activity Level: Low (Little to no regular physical activity)\n",
            "\n",
            "Diet Options:\n",
            "1. Healthy (Balanced diet with mix of carbs, proteins, vegetables, limited sugar and processed foods)\n",
            "2. Moderately Healthy (Mixed diet with occasional healthy meals and some fast food or processed items)\n",
            "3. Unhealthy (Mostly high-sugar, high-fat, or processed foods with few fruits/vegetables)\n",
            "Typical Diet: Unhealthy (Mostly high-sugar, high-fat, or processed foods with few fruits/vegetables)\n",
            "\n",
            "Smoking Habits:\n",
            "1. I do not smoke\n",
            "2. Used to smoke but quit\n",
            "3. Occasionally (Less than once a week)\n",
            "4. 1-2 times per week\n",
            "5. 3-6 times per week\n",
            "6. Daily(1-5 times per day)\n",
            "Smoking Habits: Used to smoke but quit\n",
            "\n",
            "Alcohol consumption:\n",
            "1. None (I do not drink alcohol)\n",
            "2. Occasional (e.g., social drinking, 1–2 times per month)\n",
            "3. Moderate (e.g., 1–2 times per week)\n",
            "4. Frequent (3 or more times per week)\n",
            "Alcohol Consumption: Moderate (e.g., 1–2 times per week)\n",
            "\n",
            " meals at regular times each day:\n",
            "1. Yes, mostly at the same time\n",
            "2. No, meal times vary\n",
            "3. I often skip meals\n",
            "Do you usually eat your meals at regular times each day: No, meal times vary\n",
            "\n",
            "Stress level:\n",
            "1. Rarely\n",
            "2. Sometimes\n",
            "3. Often\n",
            "4. Almost every day\n",
            "How often do you feel stressed or emotionally overwhelmed in a typical week: Almost every day\n",
            "Do you have a family history of diabetes? (Yes/No): No\n",
            "Diagnosed with hypertension (high blood pressure)? (Yes/No): Yes\n",
            "Diagnosed with heart disease? (Yes/No): NO\n"
          ]
        }
      ]
    },
    {
      "cell_type": "code",
      "source": [
        "# -----------------------------------\n",
        "# Create DataFrame\n",
        "# -----------------------------------\n",
        "user_data = {\n",
        "    \"Age\": age,\n",
        "    \"Weight(kg)\": weight,\n",
        "    \"Height(cm)\": height_cm,\n",
        "    \"Height(m)\": height_m,\n",
        "    \"BMI\": bmi,\n",
        "    \"Average hours of sleep per night\": sleep_hours,\n",
        "    \"Gender\": gender,\n",
        "    \"Physical Activity Level\": activity,\n",
        "    \"How would you describe your typical diet?\": diet,\n",
        "    \"Do you have a family history of diabetes?\": family_history,\n",
        "    \"Have you been diagnosed with hypertension(high blood pressure)?\": hypertension,\n",
        "    \"Have you been diagnosed with heart disease?\": heart_disease,\n",
        "    \"Smoking Habits?\": smoking,\n",
        "    \"Alcohol Consumption\": alcohol,\n",
        "    \"Do you usually eat your meals at regular times each day?\": meal_regular,\n",
        "    \"How often do you feel stressed or emotionally overwhelmed in a typical week?\": stress,\n",
        "    \"AgeGroup\": age_group\n",
        "}\n",
        "\n",
        "user_df = pd.DataFrame([user_data])\n",
        "\n",
        "# Load training feature names from pipeline\n",
        "expected_cols = model.feature_names_in_\n",
        "\n",
        "# One-hot encode user input\n",
        "user_encoded = pd.get_dummies(user_df)\n",
        "\n",
        "# Align with expected columns (fill missing with 0)\n",
        "user_encoded = user_encoded.reindex(columns=expected_cols, fill_value=0)\n",
        "\n",
        "# Predict\n",
        "prediction = model.predict(user_encoded)[0]\n",
        "prediction_proba = model.predict_proba(user_encoded)[0]\n",
        "\n",
        "# Map probabilities manually\n",
        "print(\"Prediction:\", \"Yes\" if prediction == 1 else \"No\")\n",
        "print(\"Prediction Probabilities:\")\n",
        "print(f\"No: {prediction_proba[0]:.2f}\")\n",
        "print(f\"Yes: {prediction_proba[1]:.2f}\")\n",
        "\n",
        "#print(\"Prediction:\", prediction)\n",
        "#print(\"Prediction Probabilities:\", prediction_proba)\n",
        "\n"
      ],
      "metadata": {
        "id": "jWI-XOUaMnb0",
        "colab": {
          "base_uri": "https://localhost:8080/"
        },
        "outputId": "f7dfa527-e43a-4de7-c0ee-ddc70363920f"
      },
      "execution_count": 47,
      "outputs": [
        {
          "output_type": "stream",
          "name": "stdout",
          "text": [
            "Prediction: Yes\n",
            "Prediction Probabilities:\n",
            "No: 0.35\n",
            "Yes: 0.65\n"
          ]
        }
      ]
    },
    {
      "cell_type": "code",
      "source": [],
      "metadata": {
        "id": "o6mn-e3xQ3km"
      },
      "execution_count": null,
      "outputs": []
    }
  ]
}